{
 "cells": [
  {
   "cell_type": "markdown",
   "id": "0f58ba86-7660-44e7-aceb-4a010b422e92",
   "metadata": {},
   "source": [
    "# Linear Regression Practice"
   ]
  },
  {
   "cell_type": "markdown",
   "id": "aed84928-856c-493a-bfcd-0bfebd7a4a1c",
   "metadata": {},
   "source": [
    "For this exercise, you've been provided with a csv file, gdp_le.csv, which contains the gdp per capita and life expectancy values that you were working with on the UN data exercise."
   ]
  },
  {
   "cell_type": "code",
   "execution_count": 1,
   "id": "95ad3ca0-ad56-4ac9-9f71-005cf2534b12",
   "metadata": {},
   "outputs": [],
   "source": [
    "import matplotlib.pyplot as plt\n",
    "import numpy as np\n",
    "import pandas as pd\n",
    "from patsy.builtins import *\n",
    "import seaborn as sns\n",
    "import statsmodels.formula.api as smf"
   ]
  },
  {
   "cell_type": "code",
   "execution_count": 2,
   "id": "e8900621-5ddb-4274-94a9-c4bf7b8892a8",
   "metadata": {},
   "outputs": [
    {
     "data": {
      "text/html": [
       "<div>\n",
       "<style scoped>\n",
       "    .dataframe tbody tr th:only-of-type {\n",
       "        vertical-align: middle;\n",
       "    }\n",
       "\n",
       "    .dataframe tbody tr th {\n",
       "        vertical-align: top;\n",
       "    }\n",
       "\n",
       "    .dataframe thead th {\n",
       "        text-align: right;\n",
       "    }\n",
       "</style>\n",
       "<table border=\"1\" class=\"dataframe\">\n",
       "  <thead>\n",
       "    <tr style=\"text-align: right;\">\n",
       "      <th></th>\n",
       "      <th>Country</th>\n",
       "      <th>Year</th>\n",
       "      <th>GDP_Per_Capita</th>\n",
       "      <th>Continent</th>\n",
       "      <th>Life_Expectancy</th>\n",
       "    </tr>\n",
       "  </thead>\n",
       "  <tbody>\n",
       "    <tr>\n",
       "      <th>5342</th>\n",
       "      <td>Uruguay</td>\n",
       "      <td>1990</td>\n",
       "      <td>11112.736405</td>\n",
       "      <td>South America</td>\n",
       "      <td>73.162000</td>\n",
       "    </tr>\n",
       "    <tr>\n",
       "      <th>4329</th>\n",
       "      <td>Seychelles</td>\n",
       "      <td>1990</td>\n",
       "      <td>15538.802834</td>\n",
       "      <td>Africa</td>\n",
       "      <td>68.107317</td>\n",
       "    </tr>\n",
       "  </tbody>\n",
       "</table>\n",
       "</div>"
      ],
      "text/plain": [
       "         Country  Year  GDP_Per_Capita      Continent  Life_Expectancy\n",
       "5342     Uruguay  1990    11112.736405  South America        73.162000\n",
       "4329  Seychelles  1990    15538.802834         Africa        68.107317"
      ]
     },
     "execution_count": 2,
     "metadata": {},
     "output_type": "execute_result"
    }
   ],
   "source": [
    "# READ DATA\n",
    "gdp_le = pd.read_csv(\"../data/gdp_le.csv\")\n",
    "\n",
    "# DISPLAY TOP 2 ROWS\n",
    "gdp_le.sort_values(\"Year\").head(2)"
   ]
  },
  {
   "cell_type": "markdown",
   "id": "f2bd0fa5-83bd-4e88-a4a0-3303630d1237",
   "metadata": {},
   "source": [
    "## 1. Start by fitting a linear regression model with target being life expectancy and predictor variable year."
   ]
  },
  {
   "cell_type": "code",
   "execution_count": 3,
   "id": "ec32b309-85fd-439e-ab3d-cf4e3c9b7905",
   "metadata": {},
   "outputs": [],
   "source": [
    "# FIT AN ORDINARY LEASE SQUARES (OLS) MODEL\n",
    "lr_life_expectancy = smf.ols(formula=\"Life_Expectancy ~ Year\", data=gdp_le).fit()"
   ]
  },
  {
   "cell_type": "markdown",
   "id": "cb8b41a0-05cb-4fd4-b303-7bf018e1de1f",
   "metadata": {},
   "source": [
    "### a. What coefficients do you get? Interpret the meaning of these coefficents."
   ]
  },
  {
   "cell_type": "code",
   "execution_count": 4,
   "id": "456a83e9-bbc6-4a74-922b-647719bc2cb9",
   "metadata": {},
   "outputs": [
    {
     "data": {
      "text/plain": [
       "Intercept   -468.138140\n",
       "Year           0.267722\n",
       "dtype: float64"
      ]
     },
     "execution_count": 4,
     "metadata": {},
     "output_type": "execute_result"
    }
   ],
   "source": [
    "# DISPLAY THE PARAMS ATTRIBUTE\n",
    "lr_life_expectancy.params"
   ]
  },
  {
   "cell_type": "markdown",
   "id": "baf12c40-0c81-497c-b8bc-ee9fad6c6ebd",
   "metadata": {},
   "source": [
    "#### ANSWER: The intercept is predicting year 0 life expectancy -468 based on the data. The slope is 0.268 years."
   ]
  },
  {
   "cell_type": "markdown",
   "id": "17b6e7ef-e6f1-42d9-9c76-00598658ecf9",
   "metadata": {},
   "source": [
    "b. Using just the year makes the intercept term difficult to interpret. Create a new model, but this time use years since 1990 as your predictor variable. Hint: You can the patsy identity function to modify your predictors in your model formula. Inspect the new coefficients and interpret the meaning of them. Are they statistically significant?"
   ]
  },
  {
   "cell_type": "code",
   "execution_count": 5,
   "id": "a9511608-7a69-4016-8324-bced3ef08f77",
   "metadata": {},
   "outputs": [
    {
     "data": {
      "text/plain": [
       "Intercept         64.628889\n",
       "I(Year - 1990)     0.267722\n",
       "dtype: float64"
      ]
     },
     "execution_count": 5,
     "metadata": {},
     "output_type": "execute_result"
    }
   ],
   "source": [
    "# REFIT THE DATA SO THAT THE MODEL STARTS AT 1990\n",
    "lr_life_expectancy = smf.ols(formula=\"Life_Expectancy ~ I(Year-1990)\", data=gdp_le).fit()\n",
    "lr_life_expectancy.params"
   ]
  },
  {
   "cell_type": "markdown",
   "id": "1fb4aeff-2387-46c0-81ce-4fb606050328",
   "metadata": {},
   "source": [
    "#### ANSWER: The intercept is predicting year 1990 life expectancy 64 now. The slope is still 0.268 years. Now they are significant and make sense."
   ]
  },
  {
   "cell_type": "markdown",
   "id": "79304f5a-4090-4ef4-b2b8-a3f3069c8abc",
   "metadata": {},
   "source": [
    "### c. Compare the actual mean life expectancy per year to the model's estimate. How well does it do?"
   ]
  },
  {
   "cell_type": "code",
   "execution_count": 6,
   "id": "a6634a35-6e2a-4a20-8b72-8e6a12f416c8",
   "metadata": {},
   "outputs": [
    {
     "data": {
      "text/html": [
       "<div>\n",
       "<style scoped>\n",
       "    .dataframe tbody tr th:only-of-type {\n",
       "        vertical-align: middle;\n",
       "    }\n",
       "\n",
       "    .dataframe tbody tr th {\n",
       "        vertical-align: top;\n",
       "    }\n",
       "\n",
       "    .dataframe thead th {\n",
       "        text-align: right;\n",
       "    }\n",
       "</style>\n",
       "<table border=\"1\" class=\"dataframe\">\n",
       "  <thead>\n",
       "    <tr style=\"text-align: right;\">\n",
       "      <th></th>\n",
       "      <th>Life_Expectancy</th>\n",
       "      <th>lr_fitted</th>\n",
       "      <th>diff</th>\n",
       "    </tr>\n",
       "    <tr>\n",
       "      <th>Year</th>\n",
       "      <th></th>\n",
       "      <th></th>\n",
       "      <th></th>\n",
       "    </tr>\n",
       "  </thead>\n",
       "  <tbody>\n",
       "    <tr>\n",
       "      <th>1990</th>\n",
       "      <td>64.745253</td>\n",
       "      <td>64.628889</td>\n",
       "      <td>0.116363</td>\n",
       "    </tr>\n",
       "    <tr>\n",
       "      <th>1991</th>\n",
       "      <td>65.021276</td>\n",
       "      <td>64.896612</td>\n",
       "      <td>0.124665</td>\n",
       "    </tr>\n",
       "    <tr>\n",
       "      <th>1992</th>\n",
       "      <td>65.217845</td>\n",
       "      <td>65.164334</td>\n",
       "      <td>0.053512</td>\n",
       "    </tr>\n",
       "    <tr>\n",
       "      <th>1993</th>\n",
       "      <td>65.218031</td>\n",
       "      <td>65.432056</td>\n",
       "      <td>-0.214025</td>\n",
       "    </tr>\n",
       "    <tr>\n",
       "      <th>1994</th>\n",
       "      <td>65.339539</td>\n",
       "      <td>65.699778</td>\n",
       "      <td>-0.360239</td>\n",
       "    </tr>\n",
       "    <tr>\n",
       "      <th>1995</th>\n",
       "      <td>65.956224</td>\n",
       "      <td>65.967500</td>\n",
       "      <td>-0.011276</td>\n",
       "    </tr>\n",
       "    <tr>\n",
       "      <th>1996</th>\n",
       "      <td>66.200189</td>\n",
       "      <td>66.235222</td>\n",
       "      <td>-0.035033</td>\n",
       "    </tr>\n",
       "    <tr>\n",
       "      <th>1997</th>\n",
       "      <td>66.437280</td>\n",
       "      <td>66.502944</td>\n",
       "      <td>-0.065664</td>\n",
       "    </tr>\n",
       "    <tr>\n",
       "      <th>1998</th>\n",
       "      <td>66.556082</td>\n",
       "      <td>66.770666</td>\n",
       "      <td>-0.214584</td>\n",
       "    </tr>\n",
       "    <tr>\n",
       "      <th>1999</th>\n",
       "      <td>66.916176</td>\n",
       "      <td>67.038389</td>\n",
       "      <td>-0.122213</td>\n",
       "    </tr>\n",
       "    <tr>\n",
       "      <th>2000</th>\n",
       "      <td>67.154618</td>\n",
       "      <td>67.306111</td>\n",
       "      <td>-0.151492</td>\n",
       "    </tr>\n",
       "    <tr>\n",
       "      <th>2001</th>\n",
       "      <td>67.445644</td>\n",
       "      <td>67.573833</td>\n",
       "      <td>-0.128188</td>\n",
       "    </tr>\n",
       "    <tr>\n",
       "      <th>2002</th>\n",
       "      <td>67.653800</td>\n",
       "      <td>67.841555</td>\n",
       "      <td>-0.187755</td>\n",
       "    </tr>\n",
       "    <tr>\n",
       "      <th>2003</th>\n",
       "      <td>67.907879</td>\n",
       "      <td>68.109277</td>\n",
       "      <td>-0.201398</td>\n",
       "    </tr>\n",
       "    <tr>\n",
       "      <th>2004</th>\n",
       "      <td>68.194988</td>\n",
       "      <td>68.376999</td>\n",
       "      <td>-0.182011</td>\n",
       "    </tr>\n",
       "    <tr>\n",
       "      <th>2005</th>\n",
       "      <td>68.511619</td>\n",
       "      <td>68.644721</td>\n",
       "      <td>-0.133102</td>\n",
       "    </tr>\n",
       "    <tr>\n",
       "      <th>2006</th>\n",
       "      <td>68.866658</td>\n",
       "      <td>68.912443</td>\n",
       "      <td>-0.045785</td>\n",
       "    </tr>\n",
       "    <tr>\n",
       "      <th>2007</th>\n",
       "      <td>69.199696</td>\n",
       "      <td>69.180166</td>\n",
       "      <td>0.019530</td>\n",
       "    </tr>\n",
       "    <tr>\n",
       "      <th>2008</th>\n",
       "      <td>69.578075</td>\n",
       "      <td>69.447888</td>\n",
       "      <td>0.130188</td>\n",
       "    </tr>\n",
       "    <tr>\n",
       "      <th>2009</th>\n",
       "      <td>69.990552</td>\n",
       "      <td>69.715610</td>\n",
       "      <td>0.274942</td>\n",
       "    </tr>\n",
       "    <tr>\n",
       "      <th>2010</th>\n",
       "      <td>70.363572</td>\n",
       "      <td>69.983332</td>\n",
       "      <td>0.380240</td>\n",
       "    </tr>\n",
       "    <tr>\n",
       "      <th>2011</th>\n",
       "      <td>70.756336</td>\n",
       "      <td>70.251054</td>\n",
       "      <td>0.505282</td>\n",
       "    </tr>\n",
       "    <tr>\n",
       "      <th>2012</th>\n",
       "      <td>71.086031</td>\n",
       "      <td>70.518776</td>\n",
       "      <td>0.567255</td>\n",
       "    </tr>\n",
       "    <tr>\n",
       "      <th>2013</th>\n",
       "      <td>71.221144</td>\n",
       "      <td>70.786498</td>\n",
       "      <td>0.434645</td>\n",
       "    </tr>\n",
       "    <tr>\n",
       "      <th>2014</th>\n",
       "      <td>71.490074</td>\n",
       "      <td>71.054220</td>\n",
       "      <td>0.435854</td>\n",
       "    </tr>\n",
       "    <tr>\n",
       "      <th>2015</th>\n",
       "      <td>71.725811</td>\n",
       "      <td>71.321943</td>\n",
       "      <td>0.403869</td>\n",
       "    </tr>\n",
       "    <tr>\n",
       "      <th>2016</th>\n",
       "      <td>72.049365</td>\n",
       "      <td>71.589665</td>\n",
       "      <td>0.459700</td>\n",
       "    </tr>\n",
       "    <tr>\n",
       "      <th>2017</th>\n",
       "      <td>72.280413</td>\n",
       "      <td>71.857387</td>\n",
       "      <td>0.423026</td>\n",
       "    </tr>\n",
       "    <tr>\n",
       "      <th>2018</th>\n",
       "      <td>72.493003</td>\n",
       "      <td>72.125109</td>\n",
       "      <td>0.367894</td>\n",
       "    </tr>\n",
       "    <tr>\n",
       "      <th>2019</th>\n",
       "      <td>72.726851</td>\n",
       "      <td>72.392831</td>\n",
       "      <td>0.334020</td>\n",
       "    </tr>\n",
       "    <tr>\n",
       "      <th>2020</th>\n",
       "      <td>72.044532</td>\n",
       "      <td>72.660553</td>\n",
       "      <td>-0.616021</td>\n",
       "    </tr>\n",
       "    <tr>\n",
       "      <th>2021</th>\n",
       "      <td>71.520337</td>\n",
       "      <td>72.928275</td>\n",
       "      <td>-1.407938</td>\n",
       "    </tr>\n",
       "    <tr>\n",
       "      <th>2022</th>\n",
       "      <td>72.154386</td>\n",
       "      <td>73.195997</td>\n",
       "      <td>-1.041612</td>\n",
       "    </tr>\n",
       "  </tbody>\n",
       "</table>\n",
       "</div>"
      ],
      "text/plain": [
       "      Life_Expectancy  lr_fitted      diff\n",
       "Year                                      \n",
       "1990        64.745253  64.628889  0.116363\n",
       "1991        65.021276  64.896612  0.124665\n",
       "1992        65.217845  65.164334  0.053512\n",
       "1993        65.218031  65.432056 -0.214025\n",
       "1994        65.339539  65.699778 -0.360239\n",
       "1995        65.956224  65.967500 -0.011276\n",
       "1996        66.200189  66.235222 -0.035033\n",
       "1997        66.437280  66.502944 -0.065664\n",
       "1998        66.556082  66.770666 -0.214584\n",
       "1999        66.916176  67.038389 -0.122213\n",
       "2000        67.154618  67.306111 -0.151492\n",
       "2001        67.445644  67.573833 -0.128188\n",
       "2002        67.653800  67.841555 -0.187755\n",
       "2003        67.907879  68.109277 -0.201398\n",
       "2004        68.194988  68.376999 -0.182011\n",
       "2005        68.511619  68.644721 -0.133102\n",
       "2006        68.866658  68.912443 -0.045785\n",
       "2007        69.199696  69.180166  0.019530\n",
       "2008        69.578075  69.447888  0.130188\n",
       "2009        69.990552  69.715610  0.274942\n",
       "2010        70.363572  69.983332  0.380240\n",
       "2011        70.756336  70.251054  0.505282\n",
       "2012        71.086031  70.518776  0.567255\n",
       "2013        71.221144  70.786498  0.434645\n",
       "2014        71.490074  71.054220  0.435854\n",
       "2015        71.725811  71.321943  0.403869\n",
       "2016        72.049365  71.589665  0.459700\n",
       "2017        72.280413  71.857387  0.423026\n",
       "2018        72.493003  72.125109  0.367894\n",
       "2019        72.726851  72.392831  0.334020\n",
       "2020        72.044532  72.660553 -0.616021\n",
       "2021        71.520337  72.928275 -1.407938\n",
       "2022        72.154386  73.195997 -1.041612"
      ]
     },
     "execution_count": 6,
     "metadata": {},
     "output_type": "execute_result"
    }
   ],
   "source": [
    "# COPY YEAR AND LIFE_EXPECTANCY TO NEW DATAFRAME\n",
    "le_yr_df = gdp_le[[\"Year\", \"Life_Expectancy\"]].copy()\n",
    "\n",
    "# ADD COLUMN OF FITTED VALUES\n",
    "le_yr_df['lr_fitted'] = lr_life_expectancy.fittedvalues\n",
    "\n",
    "# CALCULATE MEANS BY YEAR TO NEW DATAFRAME\n",
    "le_yr_mean_df = le_yr_df.groupby(\"Year\")[['Life_Expectancy', 'lr_fitted']].mean()\n",
    "\n",
    "# CALCULATE DIFFERENCE BETWEEN DATA AND FITTED VALUES\n",
    "le_yr_mean_df['diff'] = le_yr_mean_df['Life_Expectancy'] - le_yr_mean_df['lr_fitted']\n",
    "le_yr_mean_df"
   ]
  },
  {
   "cell_type": "code",
   "execution_count": 7,
   "id": "81f9c021-3180-4458-b642-e12e09498014",
   "metadata": {},
   "outputs": [
    {
     "name": "stdout",
     "output_type": "stream",
     "text": [
      "ANSWER: The model is only off by 0.00264707759699065 on average\n"
     ]
    }
   ],
   "source": [
    "print(f\"ANSWER: The model is only off by {abs(le_yr_mean_df['diff'].mean())} on average\")"
   ]
  },
  {
   "cell_type": "markdown",
   "id": "9d1a5afa-4b19-47cc-8a53-a0648eb642e3",
   "metadata": {},
   "source": [
    "### d. Plot the actual values against your model's estimates for the mean life expectancy."
   ]
  },
  {
   "cell_type": "code",
   "execution_count": 8,
   "id": "e0661799-b2ea-46eb-a33a-01caaaf4aa08",
   "metadata": {},
   "outputs": [
    {
     "data": {
      "image/png": "[encoded data removed]",
      "text/plain": [
       "<Figure size 640x480 with 1 Axes>"
      ]
     },
     "metadata": {},
     "output_type": "display_data"
    }
   ],
   "source": [
    "# CREATE LINE PLOT FOR DATA\n",
    "ax = sns.scatterplot(data=le_yr_mean_df, x=\"Year\", y=\"Life_Expectancy\", label=\"Data\")\n",
    "\n",
    "# CREATE LINE PLOT FOR MODEL WITH PRIOR PLOT\n",
    "sns.lineplot(data=le_yr_mean_df, x=\"Year\", y=\"lr_fitted\", ax=ax, label=\"Model\", color=\"black\")\n",
    "\n",
    "# SET TITLE AND LEGEND\n",
    "plt.title(\"Life Expectancy vs Model\")\n",
    "plt.legend();"
   ]
  },
  {
   "cell_type": "markdown",
   "id": "b4a778a5-1e0a-4327-80f7-bb12480dbc0a",
   "metadata": {},
   "source": [
    "e. Inspect the R-squared value for the model. does it make sense, given the plot?"
   ]
  },
  {
   "cell_type": "code",
   "execution_count": 9,
   "id": "fa24dcf5-033a-487f-a88f-bc3f3f85f3fe",
   "metadata": {},
   "outputs": [
    {
     "name": "stdout",
     "output_type": "stream",
     "text": [
      "ANSWER: Even though the plot shows that the model means have little variance from the actual data, the R-squared value 0.07155 means that the year is only 7.155% of the determining factor in life expectancy.\n"
     ]
    }
   ],
   "source": [
    "print(f\"ANSWER: Even though the plot shows that the model means have little variance from the actual data, the R-squared value {round(number=lr_life_expectancy.rsquared, ndigits=5)} means that the year is only {round(number=lr_life_expectancy.rsquared, ndigits=5) * 100}% of the determining factor in life expectancy.\")"
   ]
  },
  {
   "cell_type": "markdown",
   "id": "a40fe5d1-0998-4f8a-9327-4a8583bd7095",
   "metadata": {},
   "source": [
    "## 2. Filter the full dataset down to just the year 2021.\n",
    "Fit a linear regression model with target being life expectancy and predictor variable gdp per capita."
   ]
  },
  {
   "cell_type": "code",
   "execution_count": 10,
   "id": "e0f28b5e-ff5e-41a4-b192-e2224000acee",
   "metadata": {},
   "outputs": [],
   "source": [
    "# CREATE NEW DATASET\n",
    "gdp_le_2021_df = gdp_le[gdp_le['Year'] == 2021].copy()\n",
    "\n",
    "# FIT LINEAR REGRESSION MODEL\n",
    "gdp_le_2021_lm = smf.ols(formula=\"Life_Expectancy ~ GDP_Per_Capita\", data=gdp_le_2021_df).fit()"
   ]
  },
  {
   "cell_type": "markdown",
   "id": "c4fdeaef-7f02-4b3f-a678-e2da8a5a227a",
   "metadata": {},
   "source": [
    "### a. What coefficients do you get?\n",
    "Interpret the meaning of those coefficients."
   ]
  },
  {
   "cell_type": "code",
   "execution_count": 11,
   "id": "822cc264-9bce-4bfc-957f-a312ae25938c",
   "metadata": {},
   "outputs": [
    {
     "data": {
      "text/plain": [
       "Intercept         65.949870\n",
       "GDP_Per_Capita     0.000257\n",
       "dtype: float64"
      ]
     },
     "execution_count": 11,
     "metadata": {},
     "output_type": "execute_result"
    }
   ],
   "source": [
    "# DISPLAY PARAMS\n",
    "gdp_le_2021_lm.params"
   ]
  },
  {
   "cell_type": "code",
   "execution_count": 12,
   "id": "75d6ca25-d0cf-48c8-b7a1-c92f21e3176b",
   "metadata": {},
   "outputs": [
    {
     "name": "stdout",
     "output_type": "stream",
     "text": [
      "ANSWER: Starting at 65.95 years, the life expectancy will increase by 0.00026 for every GDP Per Capita unit increase.\n"
     ]
    }
   ],
   "source": [
    "print(f\"ANSWER: Starting at {round(number=gdp_le_2021_lm.params.Intercept, ndigits=3)} years, the life expectancy will increase by {round(number=gdp_le_2021_lm.params.GDP_Per_Capita, ndigits=5)} for every GDP Per Capita unit increase.\")"
   ]
  },
  {
   "cell_type": "markdown",
   "id": "928b826d-94fa-4d6f-a324-aacec46859dc",
   "metadata": {},
   "source": [
    "### b. Refit your model, but this time use thousands of dollars of gdp per capita as your predictor.\n",
    "How does this change your coefficients?"
   ]
  },
  {
   "cell_type": "code",
   "execution_count": 13,
   "id": "7fbbd852-1429-44ee-a42e-fa001c98095a",
   "metadata": {},
   "outputs": [
    {
     "data": {
      "text/plain": [
       "Intercept                   65.949870\n",
       "I(GDP_Per_Capita / 1000)     0.256892\n",
       "dtype: float64"
      ]
     },
     "execution_count": 13,
     "metadata": {},
     "output_type": "execute_result"
    }
   ],
   "source": [
    "# REFIT THE MODEL USING PATSY\n",
    "gdp_le_2021_lm = smf.ols(formula=\"Life_Expectancy ~ I(GDP_Per_Capita / 1000)\", data=gdp_le_2021_df).fit()\n",
    "\n",
    "# DISPLAY MODEL PARAMS\n",
    "gdp_le_2021_lm.params"
   ]
  },
  {
   "cell_type": "code",
   "execution_count": 14,
   "id": "fcd644b4-ea4c-4ddf-9f02-b53fe6fd008d",
   "metadata": {},
   "outputs": [
    {
     "name": "stdout",
     "output_type": "stream",
     "text": [
      "The GDP_Per_Capita coefficient just increased by 1000: 0.2568917481806985.\n"
     ]
    }
   ],
   "source": [
    "print(f\"The GDP_Per_Capita coefficient just increased by 1000: {gdp_le_2021_lm.params.iloc[1]}.\")"
   ]
  },
  {
   "cell_type": "markdown",
   "id": "7122d156-ef8b-4d91-a88a-1eb4f94b4688",
   "metadata": {},
   "source": [
    "### c. Are the coefficients statistically significant?"
   ]
  },
  {
   "cell_type": "code",
   "execution_count": 15,
   "id": "847009e7-8dca-4d80-958c-74b057d38e65",
   "metadata": {},
   "outputs": [
    {
     "name": "stdout",
     "output_type": "stream",
     "text": [
      "The coefficients are statistically significant based on the low p-value: 6.810923113128574e-32.\n"
     ]
    }
   ],
   "source": [
    "print(f\"The coefficients are statistically significant based on the low p-value: {gdp_le_2021_lm.pvalues.iloc[1]}.\")"
   ]
  },
  {
   "cell_type": "markdown",
   "id": "1f7a3d68-41ce-4089-bca9-cd7671bf0747",
   "metadata": {},
   "source": [
    "### d. What does your model estimate for the mean life expectancy for a country whose gdp per capita is $50,000?\n",
    "\n",
    "What about one whose gdp per capita is $100,000?"
   ]
  },
  {
   "cell_type": "code",
   "execution_count": 16,
   "id": "4257184a-7c76-41f6-a249-bc95b86bb95d",
   "metadata": {},
   "outputs": [
    {
     "name": "stdout",
     "output_type": "stream",
     "text": [
      "ANSWER: $50k = 78.794 years.\n"
     ]
    }
   ],
   "source": [
    "print(f\"ANSWER: $50k = {round(number=gdp_le_2021_lm.predict({\"GDP_Per_Capita\": 50000}).iloc[0], ndigits=3)} years.\")"
   ]
  },
  {
   "cell_type": "code",
   "execution_count": 17,
   "id": "c090213e-656f-4a0a-b365-7fd59476af6a",
   "metadata": {},
   "outputs": [
    {
     "name": "stdout",
     "output_type": "stream",
     "text": [
      "ANSWER: $100k = 91.639 years.\n"
     ]
    }
   ],
   "source": [
    "print(f\"ANSWER: $100k = {round(number=gdp_le_2021_lm.predict({\"GDP_Per_Capita\": 100000}).iloc[0], ndigits=3)} years.\")"
   ]
  },
  {
   "cell_type": "markdown",
   "id": "d78f7cff-baa8-457d-ba78-07dad2982827",
   "metadata": {},
   "source": [
    "### e. Plot the actual values compared to your model's estimates for mean life expectancy.\n",
    "How would you assess the model's fit?"
   ]
  },
  {
   "cell_type": "code",
   "execution_count": 21,
   "id": "8314c54f-df31-466f-8c25-3c447f2a9ba7",
   "metadata": {},
   "outputs": [
    {
     "data": {
      "image/png": "[encoded data removed]",
      "text/plain": [
       "<Figure size 640x480 with 1 Axes>"
      ]
     },
     "metadata": {},
     "output_type": "display_data"
    }
   ],
   "source": [
    "# CREATE NEW DATAFRAME\n",
    "gdp_le_2021_fit_df = gdp_le_2021_df[['Life_Expectancy', 'GDP_Per_Capita']].copy()\n",
    "\n",
    "# ADD FITTED VALUES\n",
    "gdp_le_2021_fit_df['lr_fitted'] = gdp_le_2021_lm.fittedvalues\n",
    "\n",
    "# CREATE PLOTS\n",
    "ax = sns.scatterplot(data=gdp_le_2021_fit_df, x=\"GDP_Per_Capita\", y=\"Life_Expectancy\", label=\"Data\")\n",
    "sns.lineplot(data=gdp_le_2021_fit_df, x=\"GDP_Per_Capita\", y=\"lr_fitted\", ax=ax, color=\"black\", label=\"Model\")\n",
    "plt.title(label=\"GDP Per Capita vs Model\")\n",
    "plt.legend();"
   ]
  },
  {
   "cell_type": "markdown",
   "id": "ff089de1-1a0c-4f7b-80a5-2e17e4e9f6f6",
   "metadata": {},
   "source": [
    "#### ANSWER: Not a great fit."
   ]
  }
 ],
 "metadata": {
  "kernelspec": {
   "display_name": "Python [conda env:base] *",
   "language": "python",
   "name": "conda-base-py"
  },
  "language_info": {
   "codemirror_mode": {
    "name": "ipython",
    "version": 3
   },
   "file_extension": ".py",
   "mimetype": "text/x-python",
   "name": "python",
   "nbconvert_exporter": "python",
   "pygments_lexer": "ipython3",
   "version": "3.13.5"
  }
 },
 "nbformat": 4,
 "nbformat_minor": 5
}
