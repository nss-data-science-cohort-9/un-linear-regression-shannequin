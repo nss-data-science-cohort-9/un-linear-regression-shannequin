{
 "cells": [
  {
   "cell_type": "markdown",
   "id": "0f58ba86-7660-44e7-aceb-4a010b422e92",
   "metadata": {},
   "source": [
    "# Linear Regression Practice"
   ]
  },
  {
   "cell_type": "markdown",
   "id": "aed84928-856c-493a-bfcd-0bfebd7a4a1c",
   "metadata": {},
   "source": [
    "For this exercise, you've been provided with a csv file, gdp_le.csv, which contains the gdp per capita and life expectancy values that you were working with on the UN data exercise."
   ]
  },
  {
   "cell_type": "code",
   "execution_count": 1,
   "id": "95ad3ca0-ad56-4ac9-9f71-005cf2534b12",
   "metadata": {},
   "outputs": [],
   "source": [
    "import math\n",
    "\n",
    "import matplotlib.pyplot as plt\n",
    "import numpy as np\n",
    "import pandas as pd\n",
    "from patsy.builtins import *\n",
    "import seaborn as sns\n",
    "import statsmodels.formula.api as smf"
   ]
  },
  {
   "cell_type": "code",
   "execution_count": 2,
   "id": "e8900621-5ddb-4274-94a9-c4bf7b8892a8",
   "metadata": {},
   "outputs": [
    {
     "data": {
      "text/html": [
       "<div>\n",
       "<style scoped>\n",
       "    .dataframe tbody tr th:only-of-type {\n",
       "        vertical-align: middle;\n",
       "    }\n",
       "\n",
       "    .dataframe tbody tr th {\n",
       "        vertical-align: top;\n",
       "    }\n",
       "\n",
       "    .dataframe thead th {\n",
       "        text-align: right;\n",
       "    }\n",
       "</style>\n",
       "<table border=\"1\" class=\"dataframe\">\n",
       "  <thead>\n",
       "    <tr style=\"text-align: right;\">\n",
       "      <th></th>\n",
       "      <th>Country</th>\n",
       "      <th>Year</th>\n",
       "      <th>GDP_Per_Capita</th>\n",
       "      <th>Continent</th>\n",
       "      <th>Life_Expectancy</th>\n",
       "    </tr>\n",
       "  </thead>\n",
       "  <tbody>\n",
       "    <tr>\n",
       "      <th>5342</th>\n",
       "      <td>Uruguay</td>\n",
       "      <td>1990</td>\n",
       "      <td>11112.736405</td>\n",
       "      <td>South America</td>\n",
       "      <td>73.162000</td>\n",
       "    </tr>\n",
       "    <tr>\n",
       "      <th>4329</th>\n",
       "      <td>Seychelles</td>\n",
       "      <td>1990</td>\n",
       "      <td>15538.802834</td>\n",
       "      <td>Africa</td>\n",
       "      <td>68.107317</td>\n",
       "    </tr>\n",
       "    <tr>\n",
       "      <th>904</th>\n",
       "      <td>Cabo Verde</td>\n",
       "      <td>1990</td>\n",
       "      <td>1816.024743</td>\n",
       "      <td>Africa</td>\n",
       "      <td>65.023000</td>\n",
       "    </tr>\n",
       "    <tr>\n",
       "      <th>3180</th>\n",
       "      <td>Mauritania</td>\n",
       "      <td>1990</td>\n",
       "      <td>4611.941187</td>\n",
       "      <td>Africa</td>\n",
       "      <td>59.770000</td>\n",
       "    </tr>\n",
       "    <tr>\n",
       "      <th>3307</th>\n",
       "      <td>Mongolia</td>\n",
       "      <td>1990</td>\n",
       "      <td>5030.073252</td>\n",
       "      <td>Asia</td>\n",
       "      <td>58.765000</td>\n",
       "    </tr>\n",
       "  </tbody>\n",
       "</table>\n",
       "</div>"
      ],
      "text/plain": [
       "         Country  Year  GDP_Per_Capita      Continent  Life_Expectancy\n",
       "5342     Uruguay  1990    11112.736405  South America        73.162000\n",
       "4329  Seychelles  1990    15538.802834         Africa        68.107317\n",
       "904   Cabo Verde  1990     1816.024743         Africa        65.023000\n",
       "3180  Mauritania  1990     4611.941187         Africa        59.770000\n",
       "3307    Mongolia  1990     5030.073252           Asia        58.765000"
      ]
     },
     "execution_count": 2,
     "metadata": {},
     "output_type": "execute_result"
    }
   ],
   "source": [
    "# READ DATA\n",
    "gdp_le_df = pd.read_csv(\"../data/gdp_le.csv\")\n",
    "\n",
    "# DISPLAY THE TOP 5 ROWS\n",
    "gdp_le_df.sort_values(\"Year\").head()"
   ]
  },
  {
   "cell_type": "markdown",
   "id": "f2bd0fa5-83bd-4e88-a4a0-3303630d1237",
   "metadata": {},
   "source": [
    "## 1. Start by fitting a linear regression model with target being life expectancy and predictor variable year."
   ]
  },
  {
   "cell_type": "code",
   "execution_count": 3,
   "id": "ec32b309-85fd-439e-ab3d-cf4e3c9b7905",
   "metadata": {},
   "outputs": [],
   "source": [
    "# FIT AN ORDINARY LEASE SQUARES (OLS) MODEL\n",
    "lm_le_yr = smf.ols(formula=\"Life_Expectancy ~ Year\", data=gdp_le_df).fit()"
   ]
  },
  {
   "cell_type": "markdown",
   "id": "cb8b41a0-05cb-4fd4-b303-7bf018e1de1f",
   "metadata": {},
   "source": [
    "### a. What coefficients do you get? Interpret the meaning of these coefficents."
   ]
  },
  {
   "cell_type": "code",
   "execution_count": 4,
   "id": "456a83e9-bbc6-4a74-922b-647719bc2cb9",
   "metadata": {},
   "outputs": [
    {
     "data": {
      "text/plain": [
       "Intercept   -468.138140\n",
       "Year           0.267722\n",
       "dtype: float64"
      ]
     },
     "execution_count": 4,
     "metadata": {},
     "output_type": "execute_result"
    }
   ],
   "source": [
    "# DISPLAY MODEL COEFFICIENTS\n",
    "lm_le_yr.params"
   ]
  },
  {
   "cell_type": "markdown",
   "id": "baf12c40-0c81-497c-b8bc-ee9fad6c6ebd",
   "metadata": {},
   "source": [
    "#### ANSWER: The intercept is predicting year 0 life expectancy -468 based on the data. The slope is 0.268 years."
   ]
  },
  {
   "cell_type": "markdown",
   "id": "17b6e7ef-e6f1-42d9-9c76-00598658ecf9",
   "metadata": {},
   "source": [
    "b. Using just the year makes the intercept term difficult to interpret. Create a new model, but this time use years since 1990 as your predictor variable. Hint: You can the patsy identity function to modify your predictors in your model formula. Inspect the new coefficients and interpret the meaning of them. Are they statistically significant?"
   ]
  },
  {
   "cell_type": "code",
   "execution_count": 5,
   "id": "a9511608-7a69-4016-8324-bced3ef08f77",
   "metadata": {},
   "outputs": [
    {
     "data": {
      "text/plain": [
       "Intercept         64.628889\n",
       "I(Year - 1990)     0.267722\n",
       "dtype: float64"
      ]
     },
     "execution_count": 5,
     "metadata": {},
     "output_type": "execute_result"
    }
   ],
   "source": [
    "# REFIT THE DATA SO THAT THE MODEL STARTS AT 1990\n",
    "lm_le_yr = smf.ols(formula=\"Life_Expectancy ~ I(Year-1990)\", data=gdp_le_df).fit()\n",
    "\n",
    "# DISPLAY MODEL COEFFICIENTS\n",
    "lm_le_yr.params"
   ]
  },
  {
   "cell_type": "markdown",
   "id": "1fb4aeff-2387-46c0-81ce-4fb606050328",
   "metadata": {},
   "source": [
    "#### ANSWER: The intercept is predicting year 1990 life expectancy 64 now. The slope is still 0.268 years. Now they are significant and make sense."
   ]
  },
  {
   "cell_type": "markdown",
   "id": "79304f5a-4090-4ef4-b2b8-a3f3069c8abc",
   "metadata": {},
   "source": [
    "### c. Compare the actual mean life expectancy per year to the model's estimate. How well does it do?"
   ]
  },
  {
   "cell_type": "code",
   "execution_count": 6,
   "id": "a6634a35-6e2a-4a20-8b72-8e6a12f416c8",
   "metadata": {},
   "outputs": [
    {
     "data": {
      "text/html": [
       "<div>\n",
       "<style scoped>\n",
       "    .dataframe tbody tr th:only-of-type {\n",
       "        vertical-align: middle;\n",
       "    }\n",
       "\n",
       "    .dataframe tbody tr th {\n",
       "        vertical-align: top;\n",
       "    }\n",
       "\n",
       "    .dataframe thead th {\n",
       "        text-align: right;\n",
       "    }\n",
       "</style>\n",
       "<table border=\"1\" class=\"dataframe\">\n",
       "  <thead>\n",
       "    <tr style=\"text-align: right;\">\n",
       "      <th></th>\n",
       "      <th>Life_Expectancy</th>\n",
       "      <th>lr_fitted</th>\n",
       "      <th>diff</th>\n",
       "    </tr>\n",
       "    <tr>\n",
       "      <th>Year</th>\n",
       "      <th></th>\n",
       "      <th></th>\n",
       "      <th></th>\n",
       "    </tr>\n",
       "  </thead>\n",
       "  <tbody>\n",
       "    <tr>\n",
       "      <th>1990</th>\n",
       "      <td>64.745253</td>\n",
       "      <td>64.628889</td>\n",
       "      <td>0.116363</td>\n",
       "    </tr>\n",
       "    <tr>\n",
       "      <th>1991</th>\n",
       "      <td>65.021276</td>\n",
       "      <td>64.896612</td>\n",
       "      <td>0.124665</td>\n",
       "    </tr>\n",
       "    <tr>\n",
       "      <th>1992</th>\n",
       "      <td>65.217845</td>\n",
       "      <td>65.164334</td>\n",
       "      <td>0.053512</td>\n",
       "    </tr>\n",
       "    <tr>\n",
       "      <th>1993</th>\n",
       "      <td>65.218031</td>\n",
       "      <td>65.432056</td>\n",
       "      <td>-0.214025</td>\n",
       "    </tr>\n",
       "    <tr>\n",
       "      <th>1994</th>\n",
       "      <td>65.339539</td>\n",
       "      <td>65.699778</td>\n",
       "      <td>-0.360239</td>\n",
       "    </tr>\n",
       "    <tr>\n",
       "      <th>1995</th>\n",
       "      <td>65.956224</td>\n",
       "      <td>65.967500</td>\n",
       "      <td>-0.011276</td>\n",
       "    </tr>\n",
       "    <tr>\n",
       "      <th>1996</th>\n",
       "      <td>66.200189</td>\n",
       "      <td>66.235222</td>\n",
       "      <td>-0.035033</td>\n",
       "    </tr>\n",
       "    <tr>\n",
       "      <th>1997</th>\n",
       "      <td>66.437280</td>\n",
       "      <td>66.502944</td>\n",
       "      <td>-0.065664</td>\n",
       "    </tr>\n",
       "    <tr>\n",
       "      <th>1998</th>\n",
       "      <td>66.556082</td>\n",
       "      <td>66.770666</td>\n",
       "      <td>-0.214584</td>\n",
       "    </tr>\n",
       "    <tr>\n",
       "      <th>1999</th>\n",
       "      <td>66.916176</td>\n",
       "      <td>67.038389</td>\n",
       "      <td>-0.122213</td>\n",
       "    </tr>\n",
       "    <tr>\n",
       "      <th>2000</th>\n",
       "      <td>67.154618</td>\n",
       "      <td>67.306111</td>\n",
       "      <td>-0.151492</td>\n",
       "    </tr>\n",
       "    <tr>\n",
       "      <th>2001</th>\n",
       "      <td>67.445644</td>\n",
       "      <td>67.573833</td>\n",
       "      <td>-0.128188</td>\n",
       "    </tr>\n",
       "    <tr>\n",
       "      <th>2002</th>\n",
       "      <td>67.653800</td>\n",
       "      <td>67.841555</td>\n",
       "      <td>-0.187755</td>\n",
       "    </tr>\n",
       "    <tr>\n",
       "      <th>2003</th>\n",
       "      <td>67.907879</td>\n",
       "      <td>68.109277</td>\n",
       "      <td>-0.201398</td>\n",
       "    </tr>\n",
       "    <tr>\n",
       "      <th>2004</th>\n",
       "      <td>68.194988</td>\n",
       "      <td>68.376999</td>\n",
       "      <td>-0.182011</td>\n",
       "    </tr>\n",
       "    <tr>\n",
       "      <th>2005</th>\n",
       "      <td>68.511619</td>\n",
       "      <td>68.644721</td>\n",
       "      <td>-0.133102</td>\n",
       "    </tr>\n",
       "    <tr>\n",
       "      <th>2006</th>\n",
       "      <td>68.866658</td>\n",
       "      <td>68.912443</td>\n",
       "      <td>-0.045785</td>\n",
       "    </tr>\n",
       "    <tr>\n",
       "      <th>2007</th>\n",
       "      <td>69.199696</td>\n",
       "      <td>69.180166</td>\n",
       "      <td>0.019530</td>\n",
       "    </tr>\n",
       "    <tr>\n",
       "      <th>2008</th>\n",
       "      <td>69.578075</td>\n",
       "      <td>69.447888</td>\n",
       "      <td>0.130188</td>\n",
       "    </tr>\n",
       "    <tr>\n",
       "      <th>2009</th>\n",
       "      <td>69.990552</td>\n",
       "      <td>69.715610</td>\n",
       "      <td>0.274942</td>\n",
       "    </tr>\n",
       "    <tr>\n",
       "      <th>2010</th>\n",
       "      <td>70.363572</td>\n",
       "      <td>69.983332</td>\n",
       "      <td>0.380240</td>\n",
       "    </tr>\n",
       "    <tr>\n",
       "      <th>2011</th>\n",
       "      <td>70.756336</td>\n",
       "      <td>70.251054</td>\n",
       "      <td>0.505282</td>\n",
       "    </tr>\n",
       "    <tr>\n",
       "      <th>2012</th>\n",
       "      <td>71.086031</td>\n",
       "      <td>70.518776</td>\n",
       "      <td>0.567255</td>\n",
       "    </tr>\n",
       "    <tr>\n",
       "      <th>2013</th>\n",
       "      <td>71.221144</td>\n",
       "      <td>70.786498</td>\n",
       "      <td>0.434645</td>\n",
       "    </tr>\n",
       "    <tr>\n",
       "      <th>2014</th>\n",
       "      <td>71.490074</td>\n",
       "      <td>71.054220</td>\n",
       "      <td>0.435854</td>\n",
       "    </tr>\n",
       "    <tr>\n",
       "      <th>2015</th>\n",
       "      <td>71.725811</td>\n",
       "      <td>71.321943</td>\n",
       "      <td>0.403869</td>\n",
       "    </tr>\n",
       "    <tr>\n",
       "      <th>2016</th>\n",
       "      <td>72.049365</td>\n",
       "      <td>71.589665</td>\n",
       "      <td>0.459700</td>\n",
       "    </tr>\n",
       "    <tr>\n",
       "      <th>2017</th>\n",
       "      <td>72.280413</td>\n",
       "      <td>71.857387</td>\n",
       "      <td>0.423026</td>\n",
       "    </tr>\n",
       "    <tr>\n",
       "      <th>2018</th>\n",
       "      <td>72.493003</td>\n",
       "      <td>72.125109</td>\n",
       "      <td>0.367894</td>\n",
       "    </tr>\n",
       "    <tr>\n",
       "      <th>2019</th>\n",
       "      <td>72.726851</td>\n",
       "      <td>72.392831</td>\n",
       "      <td>0.334020</td>\n",
       "    </tr>\n",
       "    <tr>\n",
       "      <th>2020</th>\n",
       "      <td>72.044532</td>\n",
       "      <td>72.660553</td>\n",
       "      <td>-0.616021</td>\n",
       "    </tr>\n",
       "    <tr>\n",
       "      <th>2021</th>\n",
       "      <td>71.520337</td>\n",
       "      <td>72.928275</td>\n",
       "      <td>-1.407938</td>\n",
       "    </tr>\n",
       "    <tr>\n",
       "      <th>2022</th>\n",
       "      <td>72.154386</td>\n",
       "      <td>73.195997</td>\n",
       "      <td>-1.041612</td>\n",
       "    </tr>\n",
       "  </tbody>\n",
       "</table>\n",
       "</div>"
      ],
      "text/plain": [
       "      Life_Expectancy  lr_fitted      diff\n",
       "Year                                      \n",
       "1990        64.745253  64.628889  0.116363\n",
       "1991        65.021276  64.896612  0.124665\n",
       "1992        65.217845  65.164334  0.053512\n",
       "1993        65.218031  65.432056 -0.214025\n",
       "1994        65.339539  65.699778 -0.360239\n",
       "1995        65.956224  65.967500 -0.011276\n",
       "1996        66.200189  66.235222 -0.035033\n",
       "1997        66.437280  66.502944 -0.065664\n",
       "1998        66.556082  66.770666 -0.214584\n",
       "1999        66.916176  67.038389 -0.122213\n",
       "2000        67.154618  67.306111 -0.151492\n",
       "2001        67.445644  67.573833 -0.128188\n",
       "2002        67.653800  67.841555 -0.187755\n",
       "2003        67.907879  68.109277 -0.201398\n",
       "2004        68.194988  68.376999 -0.182011\n",
       "2005        68.511619  68.644721 -0.133102\n",
       "2006        68.866658  68.912443 -0.045785\n",
       "2007        69.199696  69.180166  0.019530\n",
       "2008        69.578075  69.447888  0.130188\n",
       "2009        69.990552  69.715610  0.274942\n",
       "2010        70.363572  69.983332  0.380240\n",
       "2011        70.756336  70.251054  0.505282\n",
       "2012        71.086031  70.518776  0.567255\n",
       "2013        71.221144  70.786498  0.434645\n",
       "2014        71.490074  71.054220  0.435854\n",
       "2015        71.725811  71.321943  0.403869\n",
       "2016        72.049365  71.589665  0.459700\n",
       "2017        72.280413  71.857387  0.423026\n",
       "2018        72.493003  72.125109  0.367894\n",
       "2019        72.726851  72.392831  0.334020\n",
       "2020        72.044532  72.660553 -0.616021\n",
       "2021        71.520337  72.928275 -1.407938\n",
       "2022        72.154386  73.195997 -1.041612"
      ]
     },
     "execution_count": 6,
     "metadata": {},
     "output_type": "execute_result"
    }
   ],
   "source": [
    "# COPY YEAR AND LIFE_EXPECTANCY TO NEW DATAFRAME\n",
    "le_yr_df = gdp_le_df[[\"Year\", \"Life_Expectancy\"]].copy()\n",
    "\n",
    "# ADD COLUMN OF FITTED VALUES\n",
    "le_yr_df['lr_fitted'] = lm_le_yr.fittedvalues\n",
    "\n",
    "# CALCULATE MEANS BY YEAR TO NEW DATAFRAME\n",
    "le_yr_mean_df = le_yr_df.groupby(\"Year\")[['Life_Expectancy', 'lr_fitted']].mean()\n",
    "\n",
    "# CALCULATE DIFFERENCE BETWEEN DATA AND FITTED VALUES\n",
    "le_yr_mean_df['diff'] = le_yr_mean_df['Life_Expectancy'] - le_yr_mean_df['lr_fitted']\n",
    "le_yr_mean_df"
   ]
  },
  {
   "cell_type": "code",
   "execution_count": 7,
   "id": "81f9c021-3180-4458-b642-e12e09498014",
   "metadata": {},
   "outputs": [
    {
     "name": "stdout",
     "output_type": "stream",
     "text": [
      "ANSWER: The model is only off by 0.00264707759699065 on average\n"
     ]
    }
   ],
   "source": [
    "print(f\"ANSWER: The model is only off by {abs(le_yr_mean_df['diff'].mean())} on average\")"
   ]
  },
  {
   "cell_type": "markdown",
   "id": "9d1a5afa-4b19-47cc-8a53-a0648eb642e3",
   "metadata": {},
   "source": [
    "### d. Plot the actual values against your model's estimates for the mean life expectancy."
   ]
  },
  {
   "cell_type": "code",
   "execution_count": 8,
   "id": "e0661799-b2ea-46eb-a33a-01caaaf4aa08",
   "metadata": {},
   "outputs": [
    {
     "data": {
      "image/png": "[encoded data removed]",
      "text/plain": [
       "<Figure size 640x480 with 1 Axes>"
      ]
     },
     "metadata": {},
     "output_type": "display_data"
    }
   ],
   "source": [
    "# CREATE LINE PLOT FOR DATA\n",
    "ax = sns.scatterplot(data=le_yr_mean_df, x=\"Year\", y=\"Life_Expectancy\", label=\"Data\")\n",
    "\n",
    "# CREATE LINE PLOT FOR MODEL WITH PRIOR PLOT\n",
    "sns.lineplot(data=le_yr_mean_df, x=\"Year\", y=\"lr_fitted\", ax=ax, label=\"Model\", color=\"black\")\n",
    "\n",
    "# SET TITLE AND LEGEND\n",
    "plt.title(\"Life Expectancy vs Model\")\n",
    "plt.legend();"
   ]
  },
  {
   "cell_type": "markdown",
   "id": "b4a778a5-1e0a-4327-80f7-bb12480dbc0a",
   "metadata": {},
   "source": [
    "e. Inspect the R-squared value for the model. does it make sense, given the plot?"
   ]
  },
  {
   "cell_type": "code",
   "execution_count": 9,
   "id": "fa24dcf5-033a-487f-a88f-bc3f3f85f3fe",
   "metadata": {},
   "outputs": [
    {
     "name": "stdout",
     "output_type": "stream",
     "text": [
      "ANSWER: Even though the plot shows that the model means have little variance\n",
      "from the actual data, the R-squared value 0.07155 means that the year is \n",
      "only 7.155% of the determining factor in life expectancy.\n"
     ]
    }
   ],
   "source": [
    "print(f\"\"\"ANSWER: Even though the plot shows that the model means have little variance\n",
    "from the actual data, the R-squared value {round(number=lm_le_yr.rsquared, ndigits=5)} means that the year is \n",
    "only {round(number=lm_le_yr.rsquared, ndigits=5) * 100}% of the determining factor in life expectancy.\"\"\")"
   ]
  },
  {
   "cell_type": "markdown",
   "id": "a40fe5d1-0998-4f8a-9327-4a8583bd7095",
   "metadata": {},
   "source": [
    "## 2. Filter the full dataset down to just the year 2021.\n",
    "Fit a linear regression model with target being life expectancy and predictor variable gdp per capita."
   ]
  },
  {
   "cell_type": "code",
   "execution_count": 10,
   "id": "e0f28b5e-ff5e-41a4-b192-e2224000acee",
   "metadata": {},
   "outputs": [],
   "source": [
    "# CREATE NEW DATASET\n",
    "gdp_le_2021_df = gdp_le_df[gdp_le_df['Year'] == 2021].copy()\n",
    "\n",
    "# FIT LINEAR REGRESSION MODEL\n",
    "lm_gdp_le_2021 = smf.ols(formula=\"Life_Expectancy ~ GDP_Per_Capita\", data=gdp_le_2021_df).fit()"
   ]
  },
  {
   "cell_type": "markdown",
   "id": "c4fdeaef-7f02-4b3f-a678-e2da8a5a227a",
   "metadata": {},
   "source": [
    "### a. What coefficients do you get?\n",
    "Interpret the meaning of those coefficients."
   ]
  },
  {
   "cell_type": "code",
   "execution_count": 11,
   "id": "822cc264-9bce-4bfc-957f-a312ae25938c",
   "metadata": {},
   "outputs": [
    {
     "data": {
      "text/plain": [
       "Intercept         65.949870\n",
       "GDP_Per_Capita     0.000257\n",
       "dtype: float64"
      ]
     },
     "execution_count": 11,
     "metadata": {},
     "output_type": "execute_result"
    }
   ],
   "source": [
    "# DISPLAY MODEL COEFFICIENTS\n",
    "lm_gdp_le_2021.params"
   ]
  },
  {
   "cell_type": "code",
   "execution_count": 12,
   "id": "75d6ca25-d0cf-48c8-b7a1-c92f21e3176b",
   "metadata": {},
   "outputs": [
    {
     "name": "stdout",
     "output_type": "stream",
     "text": [
      "ANSWER: Starting at 65.95 years, the life expectancy\n",
      "will increase by 0.00026 for every Per Capita unit increase.\n"
     ]
    }
   ],
   "source": [
    "print(f\"\"\"ANSWER: Starting at {round(number=lm_gdp_le_2021.params.Intercept, ndigits=3)} years, the life expectancy\n",
    "will increase by {round(number=lm_gdp_le_2021.params.GDP_Per_Capita, ndigits=5)} for every Per Capita unit increase.\"\"\")"
   ]
  },
  {
   "cell_type": "markdown",
   "id": "928b826d-94fa-4d6f-a324-aacec46859dc",
   "metadata": {},
   "source": [
    "### b. Refit your model, but this time use thousands of dollars of gdp per capita as your predictor.\n",
    "How does this change your coefficients?"
   ]
  },
  {
   "cell_type": "code",
   "execution_count": 13,
   "id": "7fbbd852-1429-44ee-a42e-fa001c98095a",
   "metadata": {},
   "outputs": [
    {
     "data": {
      "text/plain": [
       "Intercept                   65.949870\n",
       "I(GDP_Per_Capita / 1000)     0.256892\n",
       "dtype: float64"
      ]
     },
     "execution_count": 13,
     "metadata": {},
     "output_type": "execute_result"
    }
   ],
   "source": [
    "# REFIT THE MODEL USING PATSY\n",
    "lm_gdp_le_2021 = smf.ols(formula=\"Life_Expectancy ~ I(GDP_Per_Capita / 1000)\", data=gdp_le_2021_df).fit()\n",
    "\n",
    "# DISPLAY MODEL COEFFICIENTS\n",
    "lm_gdp_le_2021.params"
   ]
  },
  {
   "cell_type": "code",
   "execution_count": 14,
   "id": "fcd644b4-ea4c-4ddf-9f02-b53fe6fd008d",
   "metadata": {},
   "outputs": [
    {
     "name": "stdout",
     "output_type": "stream",
     "text": [
      "The GDP_Per_Capita coefficient just increased by 1000: 0.2568917481806985.\n"
     ]
    }
   ],
   "source": [
    "print(f\"The GDP_Per_Capita coefficient just increased by 1000: {lm_gdp_le_2021.params.iloc[1]}.\")"
   ]
  },
  {
   "cell_type": "markdown",
   "id": "7122d156-ef8b-4d91-a88a-1eb4f94b4688",
   "metadata": {},
   "source": [
    "### c. Are the coefficients statistically significant?"
   ]
  },
  {
   "cell_type": "code",
   "execution_count": 15,
   "id": "847009e7-8dca-4d80-958c-74b057d38e65",
   "metadata": {},
   "outputs": [
    {
     "name": "stdout",
     "output_type": "stream",
     "text": [
      "The coefficients are statistically significant based on the low p-value: 6.810923113128574e-32.\n"
     ]
    }
   ],
   "source": [
    "print(f\"The coefficients are statistically significant based on the low p-value: {lm_gdp_le_2021.pvalues.iloc[1]}.\")"
   ]
  },
  {
   "cell_type": "markdown",
   "id": "1f7a3d68-41ce-4089-bca9-cd7671bf0747",
   "metadata": {},
   "source": [
    "### d. What does your model estimate for the mean life expectancy for a country whose gdp per capita is $50,000?\n",
    "\n",
    "What about one whose gdp per capita is $100,000?"
   ]
  },
  {
   "cell_type": "code",
   "execution_count": 16,
   "id": "4257184a-7c76-41f6-a249-bc95b86bb95d",
   "metadata": {},
   "outputs": [
    {
     "name": "stdout",
     "output_type": "stream",
     "text": [
      "ANSWER: $50k = 78.794 years.\n"
     ]
    }
   ],
   "source": [
    "print(f\"ANSWER: $50k = {round(number=lm_gdp_le_2021.predict({\"GDP_Per_Capita\": 50000}).iloc[0], ndigits=3)} years.\")"
   ]
  },
  {
   "cell_type": "code",
   "execution_count": 17,
   "id": "c090213e-656f-4a0a-b365-7fd59476af6a",
   "metadata": {},
   "outputs": [
    {
     "name": "stdout",
     "output_type": "stream",
     "text": [
      "ANSWER: $100k = 91.639 years.\n"
     ]
    }
   ],
   "source": [
    "print(f\"ANSWER: $100k = {round(number=lm_gdp_le_2021.predict({\"GDP_Per_Capita\": 100000}).iloc[0], ndigits=3)} years.\")"
   ]
  },
  {
   "cell_type": "markdown",
   "id": "d78f7cff-baa8-457d-ba78-07dad2982827",
   "metadata": {},
   "source": [
    "### e. Plot the actual values compared to your model's estimates for mean life expectancy.\n",
    "How would you assess the model's fit?"
   ]
  },
  {
   "cell_type": "code",
   "execution_count": 18,
   "id": "a82b2b52-851b-415d-9637-270717b94b7b",
   "metadata": {},
   "outputs": [
    {
     "data": {
      "image/png": "[encoded data removed]",
      "text/plain": [
       "<Figure size 640x480 with 1 Axes>"
      ]
     },
     "metadata": {},
     "output_type": "display_data"
    }
   ],
   "source": [
    "# ADD FITTED VALUES\n",
    "gdp_le_2021_df['lr_fitted'] = lm_gdp_le_2021.fittedvalues\n",
    "\n",
    "# CREATE PLOTS\n",
    "ax = sns.scatterplot(data=gdp_le_2021_df, x=\"GDP_Per_Capita\", y=\"Life_Expectancy\", label=\"Data\")\n",
    "sns.lineplot(data=gdp_le_2021_df, x=\"GDP_Per_Capita\", y=\"lr_fitted\", ax=ax, color=\"black\", label=\"Model\")\n",
    "plt.title(label=\"GDP Per Capita vs Model\");"
   ]
  },
  {
   "cell_type": "markdown",
   "id": "ff089de1-1a0c-4f7b-80a5-2e17e4e9f6f6",
   "metadata": {},
   "source": [
    "#### ANSWER: Not a great fit."
   ]
  },
  {
   "cell_type": "markdown",
   "id": "5b158edd-c088-4bc0-9fb0-fd1906041c43",
   "metadata": {},
   "source": [
    "## 3. Now, fit a model for life expectancy based on the log of gdp per capita for 2021."
   ]
  },
  {
   "cell_type": "code",
   "execution_count": 19,
   "id": "7352a687-4e8c-4534-818a-b6997590c272",
   "metadata": {},
   "outputs": [
    {
     "data": {
      "text/html": [
       "<div>\n",
       "<style scoped>\n",
       "    .dataframe tbody tr th:only-of-type {\n",
       "        vertical-align: middle;\n",
       "    }\n",
       "\n",
       "    .dataframe tbody tr th {\n",
       "        vertical-align: top;\n",
       "    }\n",
       "\n",
       "    .dataframe thead th {\n",
       "        text-align: right;\n",
       "    }\n",
       "</style>\n",
       "<table border=\"1\" class=\"dataframe\">\n",
       "  <thead>\n",
       "    <tr style=\"text-align: right;\">\n",
       "      <th></th>\n",
       "      <th>Country</th>\n",
       "      <th>Year</th>\n",
       "      <th>GDP_Per_Capita</th>\n",
       "      <th>Continent</th>\n",
       "      <th>Life_Expectancy</th>\n",
       "      <th>lr_fitted</th>\n",
       "      <th>gdp_log</th>\n",
       "    </tr>\n",
       "  </thead>\n",
       "  <tbody>\n",
       "    <tr>\n",
       "      <th>0</th>\n",
       "      <td>Afghanistan</td>\n",
       "      <td>2021</td>\n",
       "      <td>1517.016266</td>\n",
       "      <td>Asia</td>\n",
       "      <td>61.982</td>\n",
       "      <td>66.339579</td>\n",
       "      <td>7.324501</td>\n",
       "    </tr>\n",
       "    <tr>\n",
       "      <th>21</th>\n",
       "      <td>Albania</td>\n",
       "      <td>2021</td>\n",
       "      <td>14595.944386</td>\n",
       "      <td>Europe</td>\n",
       "      <td>76.463</td>\n",
       "      <td>69.699448</td>\n",
       "      <td>9.588499</td>\n",
       "    </tr>\n",
       "    <tr>\n",
       "      <th>54</th>\n",
       "      <td>Algeria</td>\n",
       "      <td>2021</td>\n",
       "      <td>11029.138782</td>\n",
       "      <td>Africa</td>\n",
       "      <td>76.377</td>\n",
       "      <td>68.783165</td>\n",
       "      <td>9.308296</td>\n",
       "    </tr>\n",
       "    <tr>\n",
       "      <th>87</th>\n",
       "      <td>Angola</td>\n",
       "      <td>2021</td>\n",
       "      <td>5911.835657</td>\n",
       "      <td>Africa</td>\n",
       "      <td>61.643</td>\n",
       "      <td>67.468572</td>\n",
       "      <td>8.684712</td>\n",
       "    </tr>\n",
       "    <tr>\n",
       "      <th>120</th>\n",
       "      <td>Antigua and Barbuda</td>\n",
       "      <td>2021</td>\n",
       "      <td>19899.882425</td>\n",
       "      <td>North America</td>\n",
       "      <td>78.497</td>\n",
       "      <td>71.061985</td>\n",
       "      <td>9.898469</td>\n",
       "    </tr>\n",
       "  </tbody>\n",
       "</table>\n",
       "</div>"
      ],
      "text/plain": [
       "                 Country  Year  GDP_Per_Capita      Continent  \\\n",
       "0            Afghanistan  2021     1517.016266           Asia   \n",
       "21               Albania  2021    14595.944386         Europe   \n",
       "54               Algeria  2021    11029.138782         Africa   \n",
       "87                Angola  2021     5911.835657         Africa   \n",
       "120  Antigua and Barbuda  2021    19899.882425  North America   \n",
       "\n",
       "     Life_Expectancy  lr_fitted   gdp_log  \n",
       "0             61.982  66.339579  7.324501  \n",
       "21            76.463  69.699448  9.588499  \n",
       "54            76.377  68.783165  9.308296  \n",
       "87            61.643  67.468572  8.684712  \n",
       "120           78.497  71.061985  9.898469  "
      ]
     },
     "execution_count": 19,
     "metadata": {},
     "output_type": "execute_result"
    }
   ],
   "source": [
    "# CREATE NEW COLUMN TO STORE THE VALUE OF LOG BASE 2 OF GDP_Per_Capita\n",
    "gdp_le_2021_df['gdp_log'] = gdp_le_2021_df['GDP_Per_Capita'].apply(func=math.log)\n",
    "\n",
    "# DISPLAY THE TOP 5 ROWS\n",
    "gdp_le_2021_df.head()"
   ]
  },
  {
   "cell_type": "code",
   "execution_count": 20,
   "id": "cdedb70c-b224-4bb1-a9d6-ab37b401358b",
   "metadata": {},
   "outputs": [],
   "source": [
    "# FIT THE MODEL\n",
    "lm_le_gdplog_2021 = smf.ols(formula=\"Life_Expectancy ~ gdp_log\", data=gdp_le_2021_df).fit()"
   ]
  },
  {
   "cell_type": "markdown",
   "id": "f66d93bd-403e-4e12-a9c1-2d21e1eab8fa",
   "metadata": {},
   "source": [
    "### a. Inspect the coefficients for this model.\n",
    "Are they statistically significant?"
   ]
  },
  {
   "cell_type": "code",
   "execution_count": 21,
   "id": "84f3a8b3-1ce4-4cca-95c1-4ce89a973836",
   "metadata": {},
   "outputs": [
    {
     "data": {
      "text/html": [
       "<table class=\"simpletable\">\n",
       "<caption>OLS Regression Results</caption>\n",
       "<tr>\n",
       "  <th>Dep. Variable:</th>     <td>Life_Expectancy</td> <th>  R-squared:         </th> <td>   0.717</td>\n",
       "</tr>\n",
       "<tr>\n",
       "  <th>Model:</th>                   <td>OLS</td>       <th>  Adj. R-squared:    </th> <td>   0.715</td>\n",
       "</tr>\n",
       "<tr>\n",
       "  <th>Method:</th>             <td>Least Squares</td>  <th>  F-statistic:       </th> <td>   432.6</td>\n",
       "</tr>\n",
       "<tr>\n",
       "  <th>Date:</th>             <td>Tue, 28 Oct 2025</td> <th>  Prob (F-statistic):</th> <td>1.06e-48</td>\n",
       "</tr>\n",
       "<tr>\n",
       "  <th>Time:</th>                 <td>20:09:55</td>     <th>  Log-Likelihood:    </th> <td> -490.22</td>\n",
       "</tr>\n",
       "<tr>\n",
       "  <th>No. Observations:</th>      <td>   173</td>      <th>  AIC:               </th> <td>   984.4</td>\n",
       "</tr>\n",
       "<tr>\n",
       "  <th>Df Residuals:</th>          <td>   171</td>      <th>  BIC:               </th> <td>   990.7</td>\n",
       "</tr>\n",
       "<tr>\n",
       "  <th>Df Model:</th>              <td>     1</td>      <th>                     </th>     <td> </td>   \n",
       "</tr>\n",
       "<tr>\n",
       "  <th>Covariance Type:</th>      <td>nonrobust</td>    <th>                     </th>     <td> </td>   \n",
       "</tr>\n",
       "</table>\n",
       "<table class=\"simpletable\">\n",
       "<tr>\n",
       "      <td></td>         <th>coef</th>     <th>std err</th>      <th>t</th>      <th>P>|t|</th>  <th>[0.025</th>    <th>0.975]</th>  \n",
       "</tr>\n",
       "<tr>\n",
       "  <th>Intercept</th> <td>   18.9470</td> <td>    2.547</td> <td>    7.438</td> <td> 0.000</td> <td>   13.919</td> <td>   23.975</td>\n",
       "</tr>\n",
       "<tr>\n",
       "  <th>gdp_log</th>   <td>    5.5890</td> <td>    0.269</td> <td>   20.798</td> <td> 0.000</td> <td>    5.059</td> <td>    6.119</td>\n",
       "</tr>\n",
       "</table>\n",
       "<table class=\"simpletable\">\n",
       "<tr>\n",
       "  <th>Omnibus:</th>       <td>16.862</td> <th>  Durbin-Watson:     </th> <td>   1.974</td>\n",
       "</tr>\n",
       "<tr>\n",
       "  <th>Prob(Omnibus):</th> <td> 0.000</td> <th>  Jarque-Bera (JB):  </th> <td>  18.922</td>\n",
       "</tr>\n",
       "<tr>\n",
       "  <th>Skew:</th>          <td>-0.725</td> <th>  Prob(JB):          </th> <td>7.78e-05</td>\n",
       "</tr>\n",
       "<tr>\n",
       "  <th>Kurtosis:</th>      <td> 3.725</td> <th>  Cond. No.          </th> <td>    77.6</td>\n",
       "</tr>\n",
       "</table><br/><br/>Notes:<br/>[1] Standard Errors assume that the covariance matrix of the errors is correctly specified."
      ],
      "text/latex": [
       "\\begin{center}\n",
       "\\begin{tabular}{lclc}\n",
       "\\toprule\n",
       "\\textbf{Dep. Variable:}    & Life\\_Expectancy & \\textbf{  R-squared:         } &     0.717   \\\\\n",
       "\\textbf{Model:}            &       OLS        & \\textbf{  Adj. R-squared:    } &     0.715   \\\\\n",
       "\\textbf{Method:}           &  Least Squares   & \\textbf{  F-statistic:       } &     432.6   \\\\\n",
       "\\textbf{Date:}             & Tue, 28 Oct 2025 & \\textbf{  Prob (F-statistic):} &  1.06e-48   \\\\\n",
       "\\textbf{Time:}             &     20:09:55     & \\textbf{  Log-Likelihood:    } &   -490.22   \\\\\n",
       "\\textbf{No. Observations:} &         173      & \\textbf{  AIC:               } &     984.4   \\\\\n",
       "\\textbf{Df Residuals:}     &         171      & \\textbf{  BIC:               } &     990.7   \\\\\n",
       "\\textbf{Df Model:}         &           1      & \\textbf{                     } &             \\\\\n",
       "\\textbf{Covariance Type:}  &    nonrobust     & \\textbf{                     } &             \\\\\n",
       "\\bottomrule\n",
       "\\end{tabular}\n",
       "\\begin{tabular}{lcccccc}\n",
       "                   & \\textbf{coef} & \\textbf{std err} & \\textbf{t} & \\textbf{P$> |$t$|$} & \\textbf{[0.025} & \\textbf{0.975]}  \\\\\n",
       "\\midrule\n",
       "\\textbf{Intercept} &      18.9470  &        2.547     &     7.438  &         0.000        &       13.919    &       23.975     \\\\\n",
       "\\textbf{gdp\\_log}  &       5.5890  &        0.269     &    20.798  &         0.000        &        5.059    &        6.119     \\\\\n",
       "\\bottomrule\n",
       "\\end{tabular}\n",
       "\\begin{tabular}{lclc}\n",
       "\\textbf{Omnibus:}       & 16.862 & \\textbf{  Durbin-Watson:     } &    1.974  \\\\\n",
       "\\textbf{Prob(Omnibus):} &  0.000 & \\textbf{  Jarque-Bera (JB):  } &   18.922  \\\\\n",
       "\\textbf{Skew:}          & -0.725 & \\textbf{  Prob(JB):          } & 7.78e-05  \\\\\n",
       "\\textbf{Kurtosis:}      &  3.725 & \\textbf{  Cond. No.          } &     77.6  \\\\\n",
       "\\bottomrule\n",
       "\\end{tabular}\n",
       "%\\caption{OLS Regression Results}\n",
       "\\end{center}\n",
       "\n",
       "Notes: \\newline\n",
       " [1] Standard Errors assume that the covariance matrix of the errors is correctly specified."
      ],
      "text/plain": [
       "<class 'statsmodels.iolib.summary.Summary'>\n",
       "\"\"\"\n",
       "                            OLS Regression Results                            \n",
       "==============================================================================\n",
       "Dep. Variable:        Life_Expectancy   R-squared:                       0.717\n",
       "Model:                            OLS   Adj. R-squared:                  0.715\n",
       "Method:                 Least Squares   F-statistic:                     432.6\n",
       "Date:                Tue, 28 Oct 2025   Prob (F-statistic):           1.06e-48\n",
       "Time:                        20:09:55   Log-Likelihood:                -490.22\n",
       "No. Observations:                 173   AIC:                             984.4\n",
       "Df Residuals:                     171   BIC:                             990.7\n",
       "Df Model:                           1                                         \n",
       "Covariance Type:            nonrobust                                         \n",
       "==============================================================================\n",
       "                 coef    std err          t      P>|t|      [0.025      0.975]\n",
       "------------------------------------------------------------------------------\n",
       "Intercept     18.9470      2.547      7.438      0.000      13.919      23.975\n",
       "gdp_log        5.5890      0.269     20.798      0.000       5.059       6.119\n",
       "==============================================================================\n",
       "Omnibus:                       16.862   Durbin-Watson:                   1.974\n",
       "Prob(Omnibus):                  0.000   Jarque-Bera (JB):               18.922\n",
       "Skew:                          -0.725   Prob(JB):                     7.78e-05\n",
       "Kurtosis:                       3.725   Cond. No.                         77.6\n",
       "==============================================================================\n",
       "\n",
       "Notes:\n",
       "[1] Standard Errors assume that the covariance matrix of the errors is correctly specified.\n",
       "\"\"\""
      ]
     },
     "execution_count": 21,
     "metadata": {},
     "output_type": "execute_result"
    }
   ],
   "source": [
    "# DISPLAY THE MODEL SUMMARY\n",
    "lm_le_gdplog_2021.summary()"
   ]
  },
  {
   "cell_type": "markdown",
   "id": "eccf7e55-0d90-4420-9519-59d30efff651",
   "metadata": {},
   "source": [
    "#### ANSWER: YES"
   ]
  },
  {
   "cell_type": "markdown",
   "id": "89611c80-dab2-4e64-bcc6-f8071ab0e1e4",
   "metadata": {},
   "source": [
    "### b. Interpret these coefficients.\n",
    "What does the model estimate for the average life expectancy for countries with a gdp per capita of \\$50,000?"
   ]
  },
  {
   "cell_type": "code",
   "execution_count": 22,
   "id": "cf5e5795-6903-42b2-ad1b-5a3a1efe7126",
   "metadata": {},
   "outputs": [
    {
     "name": "stdout",
     "output_type": "stream",
     "text": [
      "ANSWER: Starting at the intercept value 18.94697006166019, the average life expectancy\n",
      "will increase by 5.58901384805049 for every unit increase of gdp_log.\n",
      "For a country with a GDP per capita of $50,000, the model calculates the life expectancy will be \n",
      "79.419 years.\n"
     ]
    }
   ],
   "source": [
    "print(f\"\"\"ANSWER: Starting at the intercept value {lm_le_gdplog_2021.params.Intercept}, the average life expectancy\n",
    "will increase by {lm_le_gdplog_2021.params.gdp_log} for every unit increase of gdp_log.\n",
    "For a country with a GDP per capita of $50,000, the model calculates the life expectancy will be \n",
    "{round(number=(lm_le_gdplog_2021.params.Intercept + lm_le_gdplog_2021.params.gdp_log * math.log(50000)), ndigits=3)} years.\"\"\")"
   ]
  },
  {
   "cell_type": "markdown",
   "id": "29c8f524-52b7-4a91-8db4-35d1ee5b004d",
   "metadata": {},
   "source": [
    "What about for those with a gdp per capita of \\$100,000?"
   ]
  },
  {
   "cell_type": "code",
   "execution_count": 23,
   "id": "114e23cb-40b3-4aa6-81be-2dfdae289ec7",
   "metadata": {},
   "outputs": [
    {
     "name": "stdout",
     "output_type": "stream",
     "text": [
      "ANSWER: For a country with a GDP per capita of $100,000, the model calculates the life expectancy will be \n",
      "83.293 years.\n"
     ]
    }
   ],
   "source": [
    "print(f\"\"\"ANSWER: For a country with a GDP per capita of $100,000, the model calculates the life expectancy will be \n",
    "{round(number=(lm_le_gdplog_2021.params.Intercept + lm_le_gdplog_2021.params.gdp_log * math.log(100000)), ndigits=3)} years.\"\"\")"
   ]
  },
  {
   "cell_type": "markdown",
   "id": "149a0ad0-ff98-49b2-b539-d0b6ffc6230c",
   "metadata": {},
   "source": [
    "### c. Plot the actual values compared to your models' estimates for the mean life expectancy.\n",
    "How does this compare to the non-logged model?"
   ]
  },
  {
   "cell_type": "code",
   "execution_count": 24,
   "id": "df24b3a8-a5a5-44eb-ab36-72c340433c50",
   "metadata": {},
   "outputs": [
    {
     "data": {
      "text/html": [
       "<div>\n",
       "<style scoped>\n",
       "    .dataframe tbody tr th:only-of-type {\n",
       "        vertical-align: middle;\n",
       "    }\n",
       "\n",
       "    .dataframe tbody tr th {\n",
       "        vertical-align: top;\n",
       "    }\n",
       "\n",
       "    .dataframe thead th {\n",
       "        text-align: right;\n",
       "    }\n",
       "</style>\n",
       "<table border=\"1\" class=\"dataframe\">\n",
       "  <thead>\n",
       "    <tr style=\"text-align: right;\">\n",
       "      <th></th>\n",
       "      <th>Country</th>\n",
       "      <th>Year</th>\n",
       "      <th>GDP_Per_Capita</th>\n",
       "      <th>Continent</th>\n",
       "      <th>Life_Expectancy</th>\n",
       "      <th>lr_fitted</th>\n",
       "      <th>gdp_log</th>\n",
       "    </tr>\n",
       "  </thead>\n",
       "  <tbody>\n",
       "    <tr>\n",
       "      <th>0</th>\n",
       "      <td>Afghanistan</td>\n",
       "      <td>2021</td>\n",
       "      <td>1517.016266</td>\n",
       "      <td>Asia</td>\n",
       "      <td>61.982</td>\n",
       "      <td>59.883706</td>\n",
       "      <td>7.324501</td>\n",
       "    </tr>\n",
       "    <tr>\n",
       "      <th>21</th>\n",
       "      <td>Albania</td>\n",
       "      <td>2021</td>\n",
       "      <td>14595.944386</td>\n",
       "      <td>Europe</td>\n",
       "      <td>76.463</td>\n",
       "      <td>72.537224</td>\n",
       "      <td>9.588499</td>\n",
       "    </tr>\n",
       "    <tr>\n",
       "      <th>54</th>\n",
       "      <td>Algeria</td>\n",
       "      <td>2021</td>\n",
       "      <td>11029.138782</td>\n",
       "      <td>Africa</td>\n",
       "      <td>76.377</td>\n",
       "      <td>70.971165</td>\n",
       "      <td>9.308296</td>\n",
       "    </tr>\n",
       "    <tr>\n",
       "      <th>87</th>\n",
       "      <td>Angola</td>\n",
       "      <td>2021</td>\n",
       "      <td>5911.835657</td>\n",
       "      <td>Africa</td>\n",
       "      <td>61.643</td>\n",
       "      <td>67.485944</td>\n",
       "      <td>8.684712</td>\n",
       "    </tr>\n",
       "    <tr>\n",
       "      <th>120</th>\n",
       "      <td>Antigua and Barbuda</td>\n",
       "      <td>2021</td>\n",
       "      <td>19899.882425</td>\n",
       "      <td>North America</td>\n",
       "      <td>78.497</td>\n",
       "      <td>74.269651</td>\n",
       "      <td>9.898469</td>\n",
       "    </tr>\n",
       "  </tbody>\n",
       "</table>\n",
       "</div>"
      ],
      "text/plain": [
       "                 Country  Year  GDP_Per_Capita      Continent  \\\n",
       "0            Afghanistan  2021     1517.016266           Asia   \n",
       "21               Albania  2021    14595.944386         Europe   \n",
       "54               Algeria  2021    11029.138782         Africa   \n",
       "87                Angola  2021     5911.835657         Africa   \n",
       "120  Antigua and Barbuda  2021    19899.882425  North America   \n",
       "\n",
       "     Life_Expectancy  lr_fitted   gdp_log  \n",
       "0             61.982  59.883706  7.324501  \n",
       "21            76.463  72.537224  9.588499  \n",
       "54            76.377  70.971165  9.308296  \n",
       "87            61.643  67.485944  8.684712  \n",
       "120           78.497  74.269651  9.898469  "
      ]
     },
     "execution_count": 24,
     "metadata": {},
     "output_type": "execute_result"
    }
   ],
   "source": [
    "# CREATE A NEW COLUMN FOR THE MODEL FITTED VALUES\n",
    "gdp_le_2021_df['lr_fitted'] = lm_le_gdplog_2021.fittedvalues\n",
    "gdp_le_2021_df.head()"
   ]
  },
  {
   "cell_type": "code",
   "execution_count": 25,
   "id": "9fa9c43b-d648-447a-a17f-798b3d43337c",
   "metadata": {},
   "outputs": [
    {
     "data": {
      "image/png": "[encoded data removed]",
      "text/plain": [
       "<Figure size 640x480 with 1 Axes>"
      ]
     },
     "metadata": {},
     "output_type": "display_data"
    }
   ],
   "source": [
    "# CREATE A PLOT\n",
    "ax = sns.scatterplot(data=gdp_le_2021_df, x=\"Life_Expectancy\", y=\"gdp_log\", label=\"Data\")\n",
    "sns.lineplot(data=gdp_le_2021_df, x=\"lr_fitted\", y=\"gdp_log\", ax=ax, label=\"Model\", color=\"black\")\n",
    "plt.title(label=\"Data vs Model\");"
   ]
  },
  {
   "cell_type": "markdown",
   "id": "ac81fbea-628c-410d-8aba-503450bab24d",
   "metadata": {},
   "source": [
    "#### ANSWER: The log version of the model seems to be a better fit."
   ]
  },
  {
   "cell_type": "markdown",
   "id": "2b9ebbfc-3c97-4f19-ac85-35cc233d10ee",
   "metadata": {},
   "source": [
    "## 4. Finally, return to the full dataset."
   ]
  },
  {
   "cell_type": "code",
   "execution_count": 26,
   "id": "e8e7588e-6218-4ab7-8910-4dcbae0aa60e",
   "metadata": {},
   "outputs": [
    {
     "data": {
      "text/html": [
       "<div>\n",
       "<style scoped>\n",
       "    .dataframe tbody tr th:only-of-type {\n",
       "        vertical-align: middle;\n",
       "    }\n",
       "\n",
       "    .dataframe tbody tr th {\n",
       "        vertical-align: top;\n",
       "    }\n",
       "\n",
       "    .dataframe thead th {\n",
       "        text-align: right;\n",
       "    }\n",
       "</style>\n",
       "<table border=\"1\" class=\"dataframe\">\n",
       "  <thead>\n",
       "    <tr style=\"text-align: right;\">\n",
       "      <th></th>\n",
       "      <th>Country</th>\n",
       "      <th>Year</th>\n",
       "      <th>GDP_Per_Capita</th>\n",
       "      <th>Continent</th>\n",
       "      <th>Life_Expectancy</th>\n",
       "    </tr>\n",
       "  </thead>\n",
       "  <tbody>\n",
       "    <tr>\n",
       "      <th>0</th>\n",
       "      <td>Afghanistan</td>\n",
       "      <td>2021</td>\n",
       "      <td>1517.016266</td>\n",
       "      <td>Asia</td>\n",
       "      <td>61.982</td>\n",
       "    </tr>\n",
       "    <tr>\n",
       "      <th>1</th>\n",
       "      <td>Afghanistan</td>\n",
       "      <td>2020</td>\n",
       "      <td>1968.341002</td>\n",
       "      <td>Asia</td>\n",
       "      <td>62.575</td>\n",
       "    </tr>\n",
       "    <tr>\n",
       "      <th>2</th>\n",
       "      <td>Afghanistan</td>\n",
       "      <td>2019</td>\n",
       "      <td>2079.921861</td>\n",
       "      <td>Asia</td>\n",
       "      <td>63.565</td>\n",
       "    </tr>\n",
       "    <tr>\n",
       "      <th>3</th>\n",
       "      <td>Afghanistan</td>\n",
       "      <td>2018</td>\n",
       "      <td>2060.698973</td>\n",
       "      <td>Asia</td>\n",
       "      <td>63.081</td>\n",
       "    </tr>\n",
       "    <tr>\n",
       "      <th>4</th>\n",
       "      <td>Afghanistan</td>\n",
       "      <td>2017</td>\n",
       "      <td>2096.093111</td>\n",
       "      <td>Asia</td>\n",
       "      <td>63.016</td>\n",
       "    </tr>\n",
       "  </tbody>\n",
       "</table>\n",
       "</div>"
      ],
      "text/plain": [
       "       Country  Year  GDP_Per_Capita Continent  Life_Expectancy\n",
       "0  Afghanistan  2021     1517.016266      Asia           61.982\n",
       "1  Afghanistan  2020     1968.341002      Asia           62.575\n",
       "2  Afghanistan  2019     2079.921861      Asia           63.565\n",
       "3  Afghanistan  2018     2060.698973      Asia           63.081\n",
       "4  Afghanistan  2017     2096.093111      Asia           63.016"
      ]
     },
     "execution_count": 26,
     "metadata": {},
     "output_type": "execute_result"
    }
   ],
   "source": [
    "# DISPLAY THE TOP 5 ROWS\n",
    "gdp_le_df.head()"
   ]
  },
  {
   "cell_type": "markdown",
   "id": "9320df8c-a55e-4622-9639-207c08c0e595",
   "metadata": {},
   "source": [
    "### a. First, fit a linear regression model for life expectancy based on the log of gdp per capita."
   ]
  },
  {
   "cell_type": "code",
   "execution_count": 27,
   "id": "9656eebd-5578-4cd8-bbc8-4d8eb150c3eb",
   "metadata": {},
   "outputs": [
    {
     "data": {
      "text/html": [
       "<div>\n",
       "<style scoped>\n",
       "    .dataframe tbody tr th:only-of-type {\n",
       "        vertical-align: middle;\n",
       "    }\n",
       "\n",
       "    .dataframe tbody tr th {\n",
       "        vertical-align: top;\n",
       "    }\n",
       "\n",
       "    .dataframe thead th {\n",
       "        text-align: right;\n",
       "    }\n",
       "</style>\n",
       "<table border=\"1\" class=\"dataframe\">\n",
       "  <thead>\n",
       "    <tr style=\"text-align: right;\">\n",
       "      <th></th>\n",
       "      <th>Country</th>\n",
       "      <th>Year</th>\n",
       "      <th>GDP_Per_Capita</th>\n",
       "      <th>Continent</th>\n",
       "      <th>Life_Expectancy</th>\n",
       "      <th>gdp_log</th>\n",
       "    </tr>\n",
       "  </thead>\n",
       "  <tbody>\n",
       "    <tr>\n",
       "      <th>0</th>\n",
       "      <td>Afghanistan</td>\n",
       "      <td>2021</td>\n",
       "      <td>1517.016266</td>\n",
       "      <td>Asia</td>\n",
       "      <td>61.982</td>\n",
       "      <td>7.324501</td>\n",
       "    </tr>\n",
       "    <tr>\n",
       "      <th>1</th>\n",
       "      <td>Afghanistan</td>\n",
       "      <td>2020</td>\n",
       "      <td>1968.341002</td>\n",
       "      <td>Asia</td>\n",
       "      <td>62.575</td>\n",
       "      <td>7.584946</td>\n",
       "    </tr>\n",
       "    <tr>\n",
       "      <th>2</th>\n",
       "      <td>Afghanistan</td>\n",
       "      <td>2019</td>\n",
       "      <td>2079.921861</td>\n",
       "      <td>Asia</td>\n",
       "      <td>63.565</td>\n",
       "      <td>7.640086</td>\n",
       "    </tr>\n",
       "    <tr>\n",
       "      <th>3</th>\n",
       "      <td>Afghanistan</td>\n",
       "      <td>2018</td>\n",
       "      <td>2060.698973</td>\n",
       "      <td>Asia</td>\n",
       "      <td>63.081</td>\n",
       "      <td>7.630801</td>\n",
       "    </tr>\n",
       "    <tr>\n",
       "      <th>4</th>\n",
       "      <td>Afghanistan</td>\n",
       "      <td>2017</td>\n",
       "      <td>2096.093111</td>\n",
       "      <td>Asia</td>\n",
       "      <td>63.016</td>\n",
       "      <td>7.647830</td>\n",
       "    </tr>\n",
       "  </tbody>\n",
       "</table>\n",
       "</div>"
      ],
      "text/plain": [
       "       Country  Year  GDP_Per_Capita Continent  Life_Expectancy   gdp_log\n",
       "0  Afghanistan  2021     1517.016266      Asia           61.982  7.324501\n",
       "1  Afghanistan  2020     1968.341002      Asia           62.575  7.584946\n",
       "2  Afghanistan  2019     2079.921861      Asia           63.565  7.640086\n",
       "3  Afghanistan  2018     2060.698973      Asia           63.081  7.630801\n",
       "4  Afghanistan  2017     2096.093111      Asia           63.016  7.647830"
      ]
     },
     "execution_count": 27,
     "metadata": {},
     "output_type": "execute_result"
    }
   ],
   "source": [
    "# CREATE A NEW COLUMN TO STORE THE LOG BASE 2 OF GDP_Per_Capita\n",
    "gdp_le_df['gdp_log'] = gdp_le_df['GDP_Per_Capita'].apply(func=math.log)\n",
    "\n",
    "# DISPLAY THE TOP 5 ROWS\n",
    "gdp_le_df.head()"
   ]
  },
  {
   "cell_type": "code",
   "execution_count": 28,
   "id": "0e8783c1-b4f4-4206-ab2f-8b48f6cb6d7a",
   "metadata": {},
   "outputs": [
    {
     "data": {
      "text/plain": [
       "Intercept    9.194102\n",
       "gdp_log      6.531130\n",
       "dtype: float64"
      ]
     },
     "execution_count": 28,
     "metadata": {},
     "output_type": "execute_result"
    }
   ],
   "source": [
    "# FIT AN ORDINARY LEASE SQUARES (OLS) MODEL\n",
    "lm_le_gdplog = smf.ols(formula=\"Life_Expectancy ~ gdp_log\", data=gdp_le_df).fit()\n",
    "\n",
    "# DISPLAY MODEL COEFFICIENTS\n",
    "lm_le_gdplog.params"
   ]
  },
  {
   "cell_type": "markdown",
   "id": "7a362a9f-054b-4ab5-af5e-46e6eb8a1e45",
   "metadata": {},
   "source": [
    "### b. Then, add the year variable to your model.\n",
    "How can you interpret the coefficient associated with year? What limitations or weaknesses might this model have?"
   ]
  },
  {
   "cell_type": "code",
   "execution_count": 44,
   "id": "054d1cfd-5938-4239-9f72-957c9290747f",
   "metadata": {},
   "outputs": [
    {
     "data": {
      "text/html": [
       "<table class=\"simpletable\">\n",
       "<caption>OLS Regression Results</caption>\n",
       "<tr>\n",
       "  <th>Dep. Variable:</th>     <td>Life_Expectancy</td> <th>  R-squared:         </th> <td>   0.718</td> \n",
       "</tr>\n",
       "<tr>\n",
       "  <th>Model:</th>                   <td>OLS</td>       <th>  Adj. R-squared:    </th> <td>   0.718</td> \n",
       "</tr>\n",
       "<tr>\n",
       "  <th>Method:</th>             <td>Least Squares</td>  <th>  F-statistic:       </th> <td>   7014.</td> \n",
       "</tr>\n",
       "<tr>\n",
       "  <th>Date:</th>             <td>Tue, 28 Oct 2025</td> <th>  Prob (F-statistic):</th>  <td>  0.00</td>  \n",
       "</tr>\n",
       "<tr>\n",
       "  <th>Time:</th>                 <td>20:23:22</td>     <th>  Log-Likelihood:    </th> <td> -16668.</td> \n",
       "</tr>\n",
       "<tr>\n",
       "  <th>No. Observations:</th>      <td>  5504</td>      <th>  AIC:               </th> <td>3.334e+04</td>\n",
       "</tr>\n",
       "<tr>\n",
       "  <th>Df Residuals:</th>          <td>  5501</td>      <th>  BIC:               </th> <td>3.336e+04</td>\n",
       "</tr>\n",
       "<tr>\n",
       "  <th>Df Model:</th>              <td>     2</td>      <th>                     </th>     <td> </td>    \n",
       "</tr>\n",
       "<tr>\n",
       "  <th>Covariance Type:</th>      <td>nonrobust</td>    <th>                     </th>     <td> </td>    \n",
       "</tr>\n",
       "</table>\n",
       "<table class=\"simpletable\">\n",
       "<tr>\n",
       "         <td></td>           <th>coef</th>     <th>std err</th>      <th>t</th>      <th>P>|t|</th>  <th>[0.025</th>    <th>0.975]</th>  \n",
       "</tr>\n",
       "<tr>\n",
       "  <th>Intercept</th>      <td>    8.5612</td> <td>    0.517</td> <td>   16.563</td> <td> 0.000</td> <td>    7.548</td> <td>    9.574</td>\n",
       "</tr>\n",
       "<tr>\n",
       "  <th>gdp_log</th>        <td>    6.3599</td> <td>    0.057</td> <td>  112.387</td> <td> 0.000</td> <td>    6.249</td> <td>    6.471</td>\n",
       "</tr>\n",
       "<tr>\n",
       "  <th>I(Year - 1990)</th> <td>    0.1345</td> <td>    0.007</td> <td>   18.525</td> <td> 0.000</td> <td>    0.120</td> <td>    0.149</td>\n",
       "</tr>\n",
       "</table>\n",
       "<table class=\"simpletable\">\n",
       "<tr>\n",
       "  <th>Omnibus:</th>       <td>1096.440</td> <th>  Durbin-Watson:     </th> <td>   0.088</td>\n",
       "</tr>\n",
       "<tr>\n",
       "  <th>Prob(Omnibus):</th>  <td> 0.000</td>  <th>  Jarque-Bera (JB):  </th> <td>2582.760</td>\n",
       "</tr>\n",
       "<tr>\n",
       "  <th>Skew:</th>           <td>-1.116</td>  <th>  Prob(JB):          </th> <td>    0.00</td>\n",
       "</tr>\n",
       "<tr>\n",
       "  <th>Kurtosis:</th>       <td> 5.506</td>  <th>  Cond. No.          </th> <td>    159.</td>\n",
       "</tr>\n",
       "</table><br/><br/>Notes:<br/>[1] Standard Errors assume that the covariance matrix of the errors is correctly specified."
      ],
      "text/latex": [
       "\\begin{center}\n",
       "\\begin{tabular}{lclc}\n",
       "\\toprule\n",
       "\\textbf{Dep. Variable:}    & Life\\_Expectancy & \\textbf{  R-squared:         } &     0.718   \\\\\n",
       "\\textbf{Model:}            &       OLS        & \\textbf{  Adj. R-squared:    } &     0.718   \\\\\n",
       "\\textbf{Method:}           &  Least Squares   & \\textbf{  F-statistic:       } &     7014.   \\\\\n",
       "\\textbf{Date:}             & Tue, 28 Oct 2025 & \\textbf{  Prob (F-statistic):} &     0.00    \\\\\n",
       "\\textbf{Time:}             &     20:23:22     & \\textbf{  Log-Likelihood:    } &   -16668.   \\\\\n",
       "\\textbf{No. Observations:} &        5504      & \\textbf{  AIC:               } & 3.334e+04   \\\\\n",
       "\\textbf{Df Residuals:}     &        5501      & \\textbf{  BIC:               } & 3.336e+04   \\\\\n",
       "\\textbf{Df Model:}         &           2      & \\textbf{                     } &             \\\\\n",
       "\\textbf{Covariance Type:}  &    nonrobust     & \\textbf{                     } &             \\\\\n",
       "\\bottomrule\n",
       "\\end{tabular}\n",
       "\\begin{tabular}{lcccccc}\n",
       "                        & \\textbf{coef} & \\textbf{std err} & \\textbf{t} & \\textbf{P$> |$t$|$} & \\textbf{[0.025} & \\textbf{0.975]}  \\\\\n",
       "\\midrule\n",
       "\\textbf{Intercept}      &       8.5612  &        0.517     &    16.563  &         0.000        &        7.548    &        9.574     \\\\\n",
       "\\textbf{gdp\\_log}       &       6.3599  &        0.057     &   112.387  &         0.000        &        6.249    &        6.471     \\\\\n",
       "\\textbf{I(Year - 1990)} &       0.1345  &        0.007     &    18.525  &         0.000        &        0.120    &        0.149     \\\\\n",
       "\\bottomrule\n",
       "\\end{tabular}\n",
       "\\begin{tabular}{lclc}\n",
       "\\textbf{Omnibus:}       & 1096.440 & \\textbf{  Durbin-Watson:     } &    0.088  \\\\\n",
       "\\textbf{Prob(Omnibus):} &   0.000  & \\textbf{  Jarque-Bera (JB):  } & 2582.760  \\\\\n",
       "\\textbf{Skew:}          &  -1.116  & \\textbf{  Prob(JB):          } &     0.00  \\\\\n",
       "\\textbf{Kurtosis:}      &   5.506  & \\textbf{  Cond. No.          } &     159.  \\\\\n",
       "\\bottomrule\n",
       "\\end{tabular}\n",
       "%\\caption{OLS Regression Results}\n",
       "\\end{center}\n",
       "\n",
       "Notes: \\newline\n",
       " [1] Standard Errors assume that the covariance matrix of the errors is correctly specified."
      ],
      "text/plain": [
       "<class 'statsmodels.iolib.summary.Summary'>\n",
       "\"\"\"\n",
       "                            OLS Regression Results                            \n",
       "==============================================================================\n",
       "Dep. Variable:        Life_Expectancy   R-squared:                       0.718\n",
       "Model:                            OLS   Adj. R-squared:                  0.718\n",
       "Method:                 Least Squares   F-statistic:                     7014.\n",
       "Date:                Tue, 28 Oct 2025   Prob (F-statistic):               0.00\n",
       "Time:                        20:23:22   Log-Likelihood:                -16668.\n",
       "No. Observations:                5504   AIC:                         3.334e+04\n",
       "Df Residuals:                    5501   BIC:                         3.336e+04\n",
       "Df Model:                           2                                         \n",
       "Covariance Type:            nonrobust                                         \n",
       "==================================================================================\n",
       "                     coef    std err          t      P>|t|      [0.025      0.975]\n",
       "----------------------------------------------------------------------------------\n",
       "Intercept          8.5612      0.517     16.563      0.000       7.548       9.574\n",
       "gdp_log            6.3599      0.057    112.387      0.000       6.249       6.471\n",
       "I(Year - 1990)     0.1345      0.007     18.525      0.000       0.120       0.149\n",
       "==============================================================================\n",
       "Omnibus:                     1096.440   Durbin-Watson:                   0.088\n",
       "Prob(Omnibus):                  0.000   Jarque-Bera (JB):             2582.760\n",
       "Skew:                          -1.116   Prob(JB):                         0.00\n",
       "Kurtosis:                       5.506   Cond. No.                         159.\n",
       "==============================================================================\n",
       "\n",
       "Notes:\n",
       "[1] Standard Errors assume that the covariance matrix of the errors is correctly specified.\n",
       "\"\"\""
      ]
     },
     "execution_count": 44,
     "metadata": {},
     "output_type": "execute_result"
    }
   ],
   "source": [
    "# FIT AN ORDINARY LEASE SQUARES (OLS) MODEL\n",
    "lm_le_gdplog_yr = smf.ols(formula=\"Life_Expectancy ~ gdp_log + I(Year-1990)\", data=gdp_le_df).fit()\n",
    "\n",
    "# DISPLAY MODEL COEFFICIENTS\n",
    "lm_le_gdplog_yr.summary()"
   ]
  },
  {
   "cell_type": "code",
   "execution_count": 45,
   "id": "c430664c-f507-4a6f-ae5f-9761ce51d395",
   "metadata": {},
   "outputs": [
    {
     "name": "stdout",
     "output_type": "stream",
     "text": [
      "ANSWER: For this model, to estimate the life expectancy, \n",
      "the product of the year and coefficient are added to the formula:\n",
      "Life_Expectancy = 8.56115056698396 + 6.359935902256439(gdp_log) + 0.13448671160624376(Year)\n",
      "According to the p-value, the year is also statistically significant.\n"
     ]
    }
   ],
   "source": [
    "print(f\"\"\"ANSWER: For this model, to estimate the life expectancy, \n",
    "the product of the year and coefficient are added to the formula:\n",
    "Life_Expectancy = {lm_le_gdplog_yr.params.loc['Intercept']} + {lm_le_gdplog_yr.params.loc['gdp_log']}(gdp_log) + {lm_le_gdplog_yr.params.loc['I(Year - 1990)']}(Year)\n",
    "According to the p-value, the year is also statistically significant.\"\"\")"
   ]
  },
  {
   "cell_type": "code",
   "execution_count": null,
   "id": "e719f6ef-84ac-4830-83ee-31c7a0b2cbf4",
   "metadata": {},
   "outputs": [],
   "source": []
  }
 ],
 "metadata": {
  "kernelspec": {
   "display_name": "Python [conda env:base] *",
   "language": "python",
   "name": "conda-base-py"
  },
  "language_info": {
   "codemirror_mode": {
    "name": "ipython",
    "version": 3
   },
   "file_extension": ".py",
   "mimetype": "text/x-python",
   "name": "python",
   "nbconvert_exporter": "python",
   "pygments_lexer": "ipython3",
   "version": "3.13.5"
  }
 },
 "nbformat": 4,
 "nbformat_minor": 5
}
